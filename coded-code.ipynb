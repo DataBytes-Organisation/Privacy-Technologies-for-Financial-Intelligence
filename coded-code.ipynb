{
 "cells": [
  {
   "cell_type": "code",
   "execution_count": null,
   "metadata": {},
   "outputs": [],
   "source": [
    "import pandas as pd\n",
    "from pydp import LaplaceMechanism\n",
    "\n",
    "sigma = 1.0  \n",
    "sensitivity = 1  \n",
    "\n",
    "customer_names = [\"Alice\", \"Bob\", \"Charlie\", \"David\", \"Emily\", \"Frank\", \"Grace\", \"Harry\", \"Isabella\", \"Jack\"]\n",
    "account_numbers = [random.randint(10000000, 99999999) for _ in range(len(customer_names))]\n",
    "transaction_dates = [pd.to_datetime(str(random.randint(2020, 2023)) + \"-\" + str(random.randint(1, 12)) + \"-\" + str(random.randint(1, 28))) for _ in range(len(customer_names))]\n",
    "deposit_amounts = [random.randint(100, 1000) for _ in range(len(customer_names))]\n",
    "\n",
    "synthetic_data = pd.DataFrame({\n",
    "    \"Customer Name\": customer_names,\n",
    "    \"Account Number\": account_numbers,\n",
    "    \"Date of Transaction\": transaction_dates,\n",
    "    \"Deposit Amount\": deposit_amounts\n",
    "})\n",
    "\n",
    "\n",
    "laplace_mechanism = LaplaceMechanism(l=sigma, sensitivity=sensitivity)\n",
    "synthetic_data[\"Deposit Amount\"] = laplace_mechanism.add_noise(synthetic_data[\"Deposit Amount\"])\n",
    "\n",
    "\n",
    "synthetic_data.to_csv('coded.csv', index=False)\n"
   ]
  }
 ],
 "metadata": {
  "language_info": {
   "name": "python"
  }
 },
 "nbformat": 4,
 "nbformat_minor": 2
}
