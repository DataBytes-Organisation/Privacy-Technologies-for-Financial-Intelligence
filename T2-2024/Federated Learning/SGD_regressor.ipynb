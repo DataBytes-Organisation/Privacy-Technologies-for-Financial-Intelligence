{
  "nbformat": 4,
  "nbformat_minor": 0,
  "metadata": {
    "colab": {
      "provenance": []
    },
    "kernelspec": {
      "name": "python3",
      "display_name": "Python 3"
    },
    "language_info": {
      "name": "python"
    }
  },
  "cells": [
    {
      "cell_type": "code",
      "source": [
        "import pickle\n",
        "import numpy as np\n",
        "import pandas as pd\n",
        "from sklearn.model_selection import train_test_split\n",
        "from sklearn.preprocessing import StandardScaler, LabelEncoder\n",
        "from sklearn.linear_model import SGDRegressor\n",
        "from sklearn.metrics import mean_squared_error, r2_score\n",
        "\n",
        "class FederatedLearning:\n",
        "    def __init__(self, num_clients=3):\n",
        "        self.num_clients = num_clients\n",
        "        self.client_models = [SGDRegressor(max_iter=100, tol=1e-3, random_state=42) for _ in range(num_clients)]\n",
        "        self.global_model = SGDRegressor(max_iter=100, tol=1e-3, random_state=42)\n",
        "        self.scaler = StandardScaler()\n",
        "        self.label_encoder = LabelEncoder()\n",
        "\n",
        "    def prepare_data(self, data_path):\n",
        "        data = pd.read_csv(data_path)\n",
        "        data['transaction_type'] = self.label_encoder.fit_transform(data['transaction_type'])\n",
        "        X = data.drop(columns=['transaction_id', 'date', 'is_split'])\n",
        "        y = data['is_split']\n",
        "        X = self.scaler.fit_transform(X)\n",
        "        return train_test_split(X, y, test_size=0.2, random_state=42)\n",
        "\n",
        "    def split_data(self, X, y):\n",
        "        # Simulate data distribution across clients\n",
        "        client_data = []\n",
        "        for i in range(self.num_clients):\n",
        "            start = i * len(X) // self.num_clients\n",
        "            end = (i + 1) * len(X) // self.num_clients\n",
        "            client_data.append((X[start:end], y[start:end]))\n",
        "        return client_data\n",
        "\n",
        "    def train_client_model(self, client_id, X, y):\n",
        "        self.client_models[client_id].partial_fit(X, y)\n",
        "        return self.client_models[client_id].coef_, self.client_models[client_id].intercept_\n",
        "\n",
        "    def aggregate_models(self, client_weights):\n",
        "        avg_weights = np.mean([w[0] for w in client_weights], axis=0)\n",
        "        avg_intercept = np.mean([w[1] for w in client_weights], axis=0)\n",
        "        self.global_model.coef_ = avg_weights\n",
        "        self.global_model.intercept_ = avg_intercept\n",
        "\n",
        "    def train(self, X_train, y_train, num_rounds=5):\n",
        "        client_data = self.split_data(X_train, y_train)\n",
        "        for round in range(num_rounds):\n",
        "            client_weights = []\n",
        "            for client_id in range(self.num_clients):\n",
        "                X_client, y_client = client_data[client_id]\n",
        "                weights = self.train_client_model(client_id, X_client, y_client)\n",
        "                client_weights.append(weights)\n",
        "            self.aggregate_models(client_weights)\n",
        "            # Update client models with global model\n",
        "            for client_model in self.client_models:\n",
        "                client_model.coef_ = self.global_model.coef_\n",
        "                client_model.intercept_ = self.global_model.intercept_\n",
        "\n",
        "    def evaluate(self, X_test, y_test):\n",
        "        y_pred = self.global_model.predict(X_test)\n",
        "        mse = mean_squared_error(y_test, y_pred)\n",
        "        r2 = r2_score(y_test, y_pred)\n",
        "        accuracy = np.mean(np.abs(y_pred - y_test) < 0.1) * 100  # Accuracy within 10% tolerance\n",
        "        return mse, r2, accuracy\n",
        "\n",
        "    def save_model(self, model_path, scaler_path):\n",
        "        with open(model_path, 'wb') as model_file:\n",
        "            pickle.dump(self.global_model, model_file)\n",
        "        with open(scaler_path, 'wb') as scaler_file:\n",
        "            pickle.dump(self.scaler, scaler_file)\n",
        "\n",
        "def main():\n",
        "    fl = FederatedLearning(num_clients=3)\n",
        "    X_train, X_test, y_train, y_test = fl.prepare_data(\"split_transactions_new.csv\")\n",
        "    fl.train(X_train, y_train, num_rounds=5)\n",
        "    mse, r2, accuracy = fl.evaluate(X_test, y_test)\n",
        "    print(f\"Model Evaluation Results:\\n\")\n",
        "    print(f\"  - Mean Squared Error (MSE): {mse:.4f}\")\n",
        "    print(f\"  - R-squared Score: {r2:.4f}\")\n",
        "    print(f\"  - Accuracy: {accuracy:.2f}%\")\n",
        "    fl.save_model('federated_sgd_model.pkl', 'federated_scaler.pkl')\n",
        "    print(\"\\nFederated model and scaler saved successfully.\")\n",
        "\n",
        "if __name__ == \"__main__\":\n",
        "    main()\n",
        "\n",
        "def load_model_and_scaler(model_path, scaler_path):\n",
        "    with open(model_path, 'rb') as model_file:\n",
        "        loaded_model = pickle.load(model_file)\n",
        "    with open(scaler_path, 'rb') as scaler_file:\n",
        "        loaded_scaler = pickle.load(scaler_file)\n",
        "    return loaded_model, loaded_scaler\n"
      ],
      "metadata": {
        "id": "xTjHaraJOtau",
        "outputId": "389224cf-eeaa-4b6e-bb97-9e58f943fde1",
        "colab": {
          "base_uri": "https://localhost:8080/"
        }
      },
      "execution_count": null,
      "outputs": [
        {
          "output_type": "stream",
          "name": "stdout",
          "text": [
            "Model Evaluation Results:\n",
            "\n",
            "  - Mean Squared Error (MSE): 0.0025\n",
            "  - R-squared Score: 0.9900\n",
            "  - Accuracy: 96.76%\n",
            "\n",
            "Federated model and scaler saved successfully.\n"
          ]
        }
      ]
    }
  ]
}
