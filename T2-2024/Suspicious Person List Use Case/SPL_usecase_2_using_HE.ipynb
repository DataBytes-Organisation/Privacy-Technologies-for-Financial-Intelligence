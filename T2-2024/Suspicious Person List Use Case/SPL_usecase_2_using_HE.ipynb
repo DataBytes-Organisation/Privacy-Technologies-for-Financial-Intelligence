{
  "nbformat": 4,
  "nbformat_minor": 0,
  "metadata": {
    "colab": {
      "provenance": []
    },
    "kernelspec": {
      "name": "python3",
      "display_name": "Python 3"
    },
    "language_info": {
      "name": "python"
    }
  },
  "cells": [
    {
      "cell_type": "code",
      "execution_count": null,
      "metadata": {
        "id": "T194IpbVocOj"
      },
      "outputs": [],
      "source": [
        "# SPL - Private to Private – Domestic Trusted Group\n",
        "\n",
        "!pip install phe\n",
        "!pip install pycryptodome\n",
        "!pip install faker\n",
        "\n",
        "from phe import paillier\n",
        "import pandas as pd\n",
        "import random\n",
        "from faker import Faker\n",
        "\n",
        "# Generate synthetic SPL data\n",
        "def generate_synthetic_spl(num_entries):\n",
        "    fake = Faker()\n",
        "    synthetic_spl = []\n",
        "    for _ in range(num_entries):\n",
        "        person = {\n",
        "            \"customer_id\": ''.join(random.choices('ABCDEFGHJKLMNPQRSTUVWXYZ0123456789', k=10)),\n",
        "            \"name\": fake.name(),\n",
        "            \"dob\": fake.date_of_birth(minimum_age=18, maximum_age=90).strftime(\"%Y-%m-%d\"),\n",
        "            \"ssn\": fake.ssn(),\n",
        "            \"address\": fake.address(),\n",
        "            \"transaction_activity\": fake.random_int(min=1000, max=100000),\n",
        "            \"risk_score\": random.randint(0, 100)\n",
        "        }\n",
        "        synthetic_spl.append(person)\n",
        "    return pd.DataFrame(synthetic_spl)\n",
        "\n",
        "# Generate SPL data\n",
        "spl_institution1 = generate_synthetic_spl(5000)\n",
        "spl_institution2 = generate_synthetic_spl(5000)\n",
        "\n",
        "# Generate Paillier keys\n",
        "public_key, private_key = paillier.generate_paillier_keypair()\n",
        "\n",
        "# Encrypt SPL data\n",
        "def encrypt_data(data, key):\n",
        "    return [key.encrypt(value) for value in data]\n",
        "\n",
        "# Encrypt risk scores\n",
        "spl1_risk_scores = encrypt_data(spl_institution1['risk_score'], public_key)\n",
        "spl2_risk_scores = encrypt_data(spl_institution2['risk_score'], public_key)\n",
        "\n",
        "# Compare encrypted data\n",
        "def compare_encrypted_data(encrypted_data1, encrypted_data2):\n",
        "    matches = []\n",
        "    for idx1, encrypted_value1 in enumerate(encrypted_data1):\n",
        "        for idx2, encrypted_value2 in enumerate(encrypted_data2):\n",
        "            if encrypted_value1 == encrypted_value2:\n",
        "                matches.append((idx1, idx2))\n",
        "    return matches\n",
        "\n",
        "matches = compare_encrypted_data(spl1_risk_scores, spl2_risk_scores)\n",
        "print(\"Count of matched items:\", len(matches))\n",
        "# print(f\"Matches found: {matches}\")\n"
      ]
    }
  ]
}