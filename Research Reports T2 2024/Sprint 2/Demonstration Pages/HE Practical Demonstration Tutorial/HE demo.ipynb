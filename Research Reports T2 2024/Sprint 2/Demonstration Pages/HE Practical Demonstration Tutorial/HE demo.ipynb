{
 "cells": [
  {
   "cell_type": "code",
   "execution_count": null,
   "id": "3bd237b9-33d8-4202-a00d-39d03a8bcfb4",
   "metadata": {},
   "outputs": [],
   "source": [
    "#!pip install phe"
   ]
  },
  {
   "cell_type": "code",
   "execution_count": 24,
   "id": "0ab7d5ae",
   "metadata": {},
   "outputs": [],
   "source": [
    "from phe import paillier\n",
    "import time"
   ]
  },
  {
   "cell_type": "code",
   "execution_count": 25,
   "id": "2b342ea9",
   "metadata": {},
   "outputs": [],
   "source": [
    "# Generate public and private keys\n",
    "def generate_keys():\n",
    "    public_key, private_key = paillier.generate_paillier_keypair()\n",
    "    return public_key, private_key\n",
    "\n",
    "# Encrypt a value\n",
    "def encrypt_value(value, public_key):\n",
    "    return public_key.encrypt(value)\n",
    "\n",
    "# Decrypt a value\n",
    "def decrypt_value(encrypted_value, private_key):\n",
    "    return private_key.decrypt(encrypted_value)\n",
    "\n",
    "# Perform secure addition\n",
    "def secure_add(encrypted_value1, encrypted_value2, public_key):\n",
    "    return encrypted_value1 + encrypted_value2"
   ]
  },
  {
   "cell_type": "code",
   "execution_count": 27,
   "id": "ede7a019-9717-4307-8b72-84c1f9541b30",
   "metadata": {},
   "outputs": [],
   "source": [
    "def HE(a,b):\n",
    "    # Record the start time\n",
    "    start_time = time.time()\n",
    "    \n",
    "    # Generate keys\n",
    "    public_key, private_key = generate_keys()\n",
    "        \n",
    "    # Encrypt values\n",
    "    encrypted_value1 = encrypt_value(a, public_key)\n",
    "    encrypted_value2 = encrypt_value(b, public_key)\n",
    "        \n",
    "    # Perform secure addition\n",
    "    encrypted_sum = secure_add(encrypted_value1, encrypted_value2, public_key)\n",
    "        \n",
    "    # Decrypt result\n",
    "    result = decrypt_value(encrypted_sum, private_key)\n",
    "    print(f\"Decrypted result of addition: {result}\")\n",
    "        \n",
    "    # Search for value\n",
    "    query_value = 5\n",
    "    encrypted_query = encrypt_value(query_value, public_key)\n",
    "        \n",
    "    # Searching through encrypted values\n",
    "    encrypted_values = [encrypted_value1, encrypted_value2]\n",
    "    search_result = any(decrypt_value(encrypted_value, private_key) == query_value for encrypted_value in encrypted_values)\n",
    "        \n",
    "    print(f\"Search result for query value {query_value}: {search_result}\")\n",
    "    \n",
    "    # Record the end time\n",
    "    end_time = time.time()\n",
    "    \n",
    "    # Calculate the time taken\n",
    "    time_taken = end_time - start_time\n",
    "    \n",
    "    print(f\"Time taken to run the cell: {time_taken} seconds\")"
   ]
  },
  {
   "cell_type": "code",
   "execution_count": 35,
   "id": "003bce1e-3048-41bf-8693-4fb0bfa569ea",
   "metadata": {},
   "outputs": [
    {
     "name": "stdout",
     "output_type": "stream",
     "text": [
      "Decrypted result of addition: 15498698444513239\n",
      "Search result for query value 5: False\n",
      "Time taken to run the cell: 2.7325711250305176 seconds\n"
     ]
    }
   ],
   "source": [
    "HE(15497452654876254,1245789636985)"
   ]
  },
  {
   "cell_type": "code",
   "execution_count": 18,
   "id": "eed3bb62-8f0b-42ff-aa8e-f32f54d3d677",
   "metadata": {},
   "outputs": [
    {
     "name": "stdout",
     "output_type": "stream",
     "text": [
      "<phe.paillier.EncryptedNumber object at 0x000001543F347CE0>\n",
      "<phe.paillier.EncryptedNumber object at 0x000001543F347CB0>\n"
     ]
    }
   ],
   "source": [
    "print(encrypted_value1)\n",
    "print(encrypted_value2)"
   ]
  },
  {
   "cell_type": "code",
   "execution_count": null,
   "id": "13dc6a57-8c06-4ecf-99cc-10283e89aa7b",
   "metadata": {},
   "outputs": [],
   "source": []
  }
 ],
 "metadata": {
  "kernelspec": {
   "display_name": "Python 3 (ipykernel)",
   "language": "python",
   "name": "python3"
  },
  "language_info": {
   "codemirror_mode": {
    "name": "ipython",
    "version": 3
   },
   "file_extension": ".py",
   "mimetype": "text/x-python",
   "name": "python",
   "nbconvert_exporter": "python",
   "pygments_lexer": "ipython3",
   "version": "3.12.4"
  }
 },
 "nbformat": 4,
 "nbformat_minor": 5
}
