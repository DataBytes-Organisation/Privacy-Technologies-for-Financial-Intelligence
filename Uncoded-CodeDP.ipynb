{
 "cells": [
  {
   "cell_type": "code",
   "execution_count": null,
   "metadata": {},
   "outputs": [],
   "source": [
    "import pandas as pd\n",
    "\n",
    "coded_data = pd.read_csv('coded.csv')\n",
    "\n",
    "decoded_data = coded_data.drop(columns=['Deposit Amount'])\n",
    "\n",
    "decoded_data.to_csv('decoded.csv', index=False)\n"
   ]
  }
 ],
 "metadata": {
  "language_info": {
   "name": "python"
  }
 },
 "nbformat": 4,
 "nbformat_minor": 2
}
