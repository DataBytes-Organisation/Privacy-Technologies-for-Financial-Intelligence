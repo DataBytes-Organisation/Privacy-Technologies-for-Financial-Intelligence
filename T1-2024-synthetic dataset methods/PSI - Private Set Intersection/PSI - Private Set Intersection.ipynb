{
  "nbformat": 4,
  "nbformat_minor": 0,
  "metadata": {
    "colab": {
      "provenance": []
    },
    "kernelspec": {
      "name": "python3",
      "display_name": "Python 3"
    },
    "language_info": {
      "name": "python"
    }
  },
  "cells": [
    {
      "cell_type": "code",
      "source": [
        "! pip install streamlit -q"
      ],
      "metadata": {
        "colab": {
          "base_uri": "https://localhost:8080/"
        },
        "id": "m6Sb3W_L3y8E",
        "outputId": "e8ae1fd4-2d86-4e67-87a0-51f0028b377c"
      },
      "execution_count": 11,
      "outputs": [
        {
          "output_type": "stream",
          "name": "stdout",
          "text": [
            "\u001b[2K     \u001b[90m━━━━━━━━━━━━━━━━━━━━━━━━━━━━━━━━━━━━━━━━\u001b[0m \u001b[32m8.1/8.1 MB\u001b[0m \u001b[31m16.5 MB/s\u001b[0m eta \u001b[36m0:00:00\u001b[0m\n",
            "\u001b[2K     \u001b[90m━━━━━━━━━━━━━━━━━━━━━━━━━━━━━━━━━━━━━━━━\u001b[0m \u001b[32m207.3/207.3 kB\u001b[0m \u001b[31m11.9 MB/s\u001b[0m eta \u001b[36m0:00:00\u001b[0m\n",
            "\u001b[2K     \u001b[90m━━━━━━━━━━━━━━━━━━━━━━━━━━━━━━━━━━━━━━━━\u001b[0m \u001b[32m4.8/4.8 MB\u001b[0m \u001b[31m29.6 MB/s\u001b[0m eta \u001b[36m0:00:00\u001b[0m\n",
            "\u001b[2K     \u001b[90m━━━━━━━━━━━━━━━━━━━━━━━━━━━━━━━━━━━━━━━━\u001b[0m \u001b[32m83.0/83.0 kB\u001b[0m \u001b[31m9.3 MB/s\u001b[0m eta \u001b[36m0:00:00\u001b[0m\n",
            "\u001b[2K     \u001b[90m━━━━━━━━━━━━━━━━━━━━━━━━━━━━━━━━━━━━━━━━\u001b[0m \u001b[32m62.7/62.7 kB\u001b[0m \u001b[31m6.4 MB/s\u001b[0m eta \u001b[36m0:00:00\u001b[0m\n",
            "\u001b[?25h"
          ]
        }
      ]
    },
    {
      "cell_type": "code",
      "execution_count": 35,
      "metadata": {
        "colab": {
          "base_uri": "https://localhost:8080/"
        },
        "id": "EG_yfecQz0he",
        "outputId": "04fac637-6718-479f-8888-fdb1249e9f93"
      },
      "outputs": [
        {
          "output_type": "stream",
          "name": "stdout",
          "text": [
            "Overwriting PSI.py\n"
          ]
        }
      ],
      "source": [
        "%%writefile PSI.py\n",
        "import streamlit as st\n",
        "from phe import paillier\n",
        "import hashlib\n",
        "\n",
        "# Key Generation\n",
        "public_key, private_key = paillier.generate_paillier_keypair()\n",
        "\n",
        "# Data Encryption\n",
        "def encrypt_data(data, public_key):\n",
        "    encrypted_data = []\n",
        "    for x in data:\n",
        "        if isinstance(x, str):\n",
        "            encrypted_data.append(public_key.encrypt(int(hashlib.sha256(x.encode()).hexdigest(), 16)))\n",
        "        else:\n",
        "            st.warning(f\"Skipping non-string element in data: {x}\")\n",
        "    return encrypted_data\n",
        "\n",
        "# Intersection Computation\n",
        "def compute_intersection(enc_data1, enc_data2):\n",
        "    intersection = []\n",
        "    for x in enc_data1:\n",
        "        for y in enc_data2:\n",
        "            if private_key.decrypt(x) == private_key.decrypt(y):\n",
        "                intersection.append(x)\n",
        "                break\n",
        "    return intersection\n",
        "\n",
        "# Result Decryption\n",
        "def decrypt_result(intersection, private_key):\n",
        "    decrypted_result = [private_key.decrypt(x) for x in intersection]\n",
        "    return decrypted_result\n",
        "\n",
        "# Streamlit app\n",
        "st.title(\"Private Set Intersection Suspicious list using Homomorphic Encryption\")\n",
        "st.write(\"\"\"\n",
        "\n",
        "    ## Welcome to PTFI demo!\n",
        "\n",
        "    AUSTRAC plays a crucial role in ensuring the integrity of Australia’s financial system by detecting and preventing illicit financial activities.\n",
        "\n",
        "    These reports are essential for AUSTRAC's efforts in detecting, deterring, and disrupting criminal and terrorist activities.\n",
        "\n",
        "    ### Why is this important?\n",
        "\n",
        "    - Scenario: Suspicious person list problem using homomorphic encryption.\n",
        "    - Privacy Protection: Analyzing personal data often raises privacy concerns. This method keeps individual data private using Homomorpic Encryption.\n",
        "    - Secure Collaboration: Sensitive data can be analyzed jointly by multiple parties without anyone directly accessing the raw data and the result. Only authorised stakeholders and data owner have access to the private key that allows them to see the raw text.\n",
        "\n",
        "    Press the submit Suspicious list and Customer list.\n",
        "\n",
        "    \"\"\")\n",
        "# Input data\n",
        "data1_input = st.text_area(\"Enter Suspicious person list (comma-separated)\", \"Alice, Bob, Charlie\")\n",
        "data2_input = st.text_area(\"Enter Customer list (comma-separated)\", \"Bob, David, Eve\")\n",
        "\n",
        "data1 = [x.strip() for x in data1_input.split(\",\")]\n",
        "data2 = [x.strip() for x in data2_input.split(\",\")]\n",
        "\n",
        "# Encrypt data\n",
        "enc_data1 = encrypt_data(data1, public_key)\n",
        "enc_data2 = encrypt_data(data2, public_key)\n",
        "\n",
        "# Compute intersection\n",
        "intersection = compute_intersection(enc_data1, enc_data2)\n",
        "\n",
        "# Decrypt result\n",
        "result = decrypt_result(intersection, private_key)\n",
        "\n",
        "# Display result\n",
        "st.write(\"Intersection:\", result)\n",
        "\n"
      ]
    },
    {
      "cell_type": "code",
      "source": [
        "!wget -q -O - https://loca.lt/mytunnelpassword"
      ],
      "metadata": {
        "colab": {
          "base_uri": "https://localhost:8080/"
        },
        "id": "u6NdqExK31Jc",
        "outputId": "c28fb1fa-7852-44cc-8b27-4765609c6d08"
      },
      "execution_count": 36,
      "outputs": [
        {
          "output_type": "stream",
          "name": "stdout",
          "text": [
            "34.80.49.148"
          ]
        }
      ]
    },
    {
      "cell_type": "code",
      "source": [
        "!streamlit run PSI.py & npx localtunnel --port 8501"
      ],
      "metadata": {
        "colab": {
          "base_uri": "https://localhost:8080/"
        },
        "id": "uODiWOLA36NG",
        "outputId": "b01548fa-460a-44bc-c894-648369f40bb7"
      },
      "execution_count": 37,
      "outputs": [
        {
          "output_type": "stream",
          "name": "stdout",
          "text": [
            "\n",
            "Collecting usage statistics. To deactivate, set browser.gatherUsageStats to false.\n",
            "\u001b[0m\n",
            "\u001b[0m\n",
            "\u001b[34m\u001b[1m  You can now view your Streamlit app in your browser.\u001b[0m\n",
            "\u001b[0m\n",
            "\u001b[34m  Network URL: \u001b[0m\u001b[1mhttp://172.28.0.12:8501\u001b[0m\n",
            "\u001b[34m  External URL: \u001b[0m\u001b[1mhttp://34.80.49.148:8501\u001b[0m\n",
            "\u001b[0m\n",
            "\u001b[K\u001b[?25hnpx: installed 22 in 2.437s\n",
            "your url is: https://afraid-cats-glow.loca.lt\n",
            "\u001b[34m  Stopping...\u001b[0m\n",
            "^C\n"
          ]
        }
      ]
    }
  ]
}