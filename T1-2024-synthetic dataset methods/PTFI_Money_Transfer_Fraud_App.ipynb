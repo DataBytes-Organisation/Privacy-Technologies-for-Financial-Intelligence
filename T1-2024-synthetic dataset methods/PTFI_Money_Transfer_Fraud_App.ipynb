{
  "cells": [
    {
      "cell_type": "markdown",
      "source": [
        "#PTFI Money Transfer Fraud App using Streamlit\n",
        "\n",
        "In this notebook will create a simple application to demonstrate the use of homomorphic encryption with a money transfer example.\n",
        "\n",
        "AUSTRAC plays a crucial role in ensuring the integrity of Australia’s financial system by detecting and preventing illicit financial activities.\n",
        "\n",
        "In Australia, financial transactions involving the transfer of physical currency (cash) are subject to specific regulations enforced by AUSTRAC, the Australian Transaction Reports and Analysis Centre. One of the key regulations is related to Threshold Transaction Reports (TTRs).\n",
        "\n",
        "A threshold transaction is defined as the transfer of physical currency equal to or exceeding A$10,000, or the equivalent amount in foreign currency. This threshold applies primarily to designated service providers, such as those offering money transfer services.\n",
        "\n",
        "Businesses engaged in designated services are required to report threshold transactions to AUSTRAC within 10 business days using a Threshold Transaction Report (TTR). These reports are essential for AUSTRAC's efforts in detecting, deterring, and disrupting criminal and terrorist activities.\n",
        "\n",
        "By monitoring and analyzing threshold transactions, AUSTRAC aims to identify suspicious financial activities and take appropriate actions to combat money laundering, terrorism financing, and other illicit activities in the Australian financial system. Compliance with TTR requirements is vital for businesses to uphold regulatory standards and contribute to maintaining the integrity and security of the financial sector.\n",
        "\n",
        "### Why is this important?\n",
        "\n",
        "- Scenario: Money Transfer Companies have to transfer customer information to AUSTRAC if it is equal or exceeds A$10,000.\n",
        "- Privacy Protection: Analyzing personal data often raises privacy concerns. This method keeps individual data private using Homomorpic Encryption.\n",
        "- Secure Collaboration: Sensitive data can be analyzed jointly by multiple parties without anyone directly accessing the raw data and the result. Only authorised stakeholders and data owner have access to the private key that allows them to see the raw text.\n",
        "- AUSTRAC serves as Australia’s anti-money laundering (AML) and counter-terrorism financing (CTF) regulator and financial intelligence unit."
      ],
      "metadata": {
        "id": "0oYZnzK_0HFN"
      }
    },
    {
      "cell_type": "code",
      "execution_count": 1,
      "metadata": {
        "colab": {
          "base_uri": "https://localhost:8080/"
        },
        "id": "3DierXjBlTWC",
        "outputId": "98ddd564-6519-49ec-95f6-13651d0580e1"
      },
      "outputs": [
        {
          "output_type": "stream",
          "name": "stdout",
          "text": [
            "\u001b[2K     \u001b[90m━━━━━━━━━━━━━━━━━━━━━━━━━━━━━━━━━━━━━━━━\u001b[0m \u001b[32m8.5/8.5 MB\u001b[0m \u001b[31m28.6 MB/s\u001b[0m eta \u001b[36m0:00:00\u001b[0m\n",
            "\u001b[2K     \u001b[90m━━━━━━━━━━━━━━━━━━━━━━━━━━━━━━━━━━━━━━━━\u001b[0m \u001b[32m207.3/207.3 kB\u001b[0m \u001b[31m13.0 MB/s\u001b[0m eta \u001b[36m0:00:00\u001b[0m\n",
            "\u001b[2K     \u001b[90m━━━━━━━━━━━━━━━━━━━━━━━━━━━━━━━━━━━━━━━━\u001b[0m \u001b[32m6.9/6.9 MB\u001b[0m \u001b[31m62.6 MB/s\u001b[0m eta \u001b[36m0:00:00\u001b[0m\n",
            "\u001b[2K     \u001b[90m━━━━━━━━━━━━━━━━━━━━━━━━━━━━━━━━━━━━━━━━\u001b[0m \u001b[32m83.0/83.0 kB\u001b[0m \u001b[31m7.5 MB/s\u001b[0m eta \u001b[36m0:00:00\u001b[0m\n",
            "\u001b[2K     \u001b[90m━━━━━━━━━━━━━━━━━━━━━━━━━━━━━━━━━━━━━━━━\u001b[0m \u001b[32m62.7/62.7 kB\u001b[0m \u001b[31m6.1 MB/s\u001b[0m eta \u001b[36m0:00:00\u001b[0m\n",
            "\u001b[?25h"
          ]
        }
      ],
      "source": [
        "#Install streamlit package\n",
        "! pip install streamlit -q"
      ]
    },
    {
      "cell_type": "code",
      "execution_count": 2,
      "metadata": {
        "colab": {
          "base_uri": "https://localhost:8080/"
        },
        "id": "KdMJ_3MllYYu",
        "outputId": "24dced40-7949-44eb-f76c-016ced064800"
      },
      "outputs": [
        {
          "output_type": "stream",
          "name": "stdout",
          "text": [
            "Collecting phe\n",
            "  Downloading phe-1.5.0-py2.py3-none-any.whl (53 kB)\n",
            "\u001b[2K     \u001b[90m━━━━━━━━━━━━━━━━━━━━━━━━━━━━━━━━━━━━━━━━\u001b[0m \u001b[32m53.7/53.7 kB\u001b[0m \u001b[31m788.0 kB/s\u001b[0m eta \u001b[36m0:00:00\u001b[0m\n",
            "\u001b[?25hInstalling collected packages: phe\n",
            "Successfully installed phe-1.5.0\n"
          ]
        }
      ],
      "source": [
        "#Install homomorphic encryption package\n",
        "!pip install phe"
      ]
    },
    {
      "cell_type": "code",
      "execution_count": 3,
      "metadata": {
        "colab": {
          "base_uri": "https://localhost:8080/"
        },
        "id": "fH34JyxylR03",
        "outputId": "c0840610-c8e7-48a4-9c65-027ffe8828df"
      },
      "outputs": [
        {
          "output_type": "stream",
          "name": "stdout",
          "text": [
            "Writing intersection.py\n"
          ]
        }
      ],
      "source": [
        "%%writefile intersection.py\n",
        "import streamlit as st\n",
        "from phe import paillier\n",
        "\n",
        "# Function to convert string to numerical representation\n",
        "def string_to_numerical(string):\n",
        "    return int.from_bytes(string.encode(), 'big')\n",
        "\n",
        "# Function to detect fraud\n",
        "def detect_fraud(total_amount, threshold):\n",
        "    if total_amount > threshold:\n",
        "        return \"Potential fraudulent transaction detected!\"\n",
        "    else:\n",
        "        return \"Transaction appears normal.\"\n",
        "\n",
        "# Main function\n",
        "def main():\n",
        "    st.title(\"PTFI Money Transfer Fraud Detection App\")\n",
        "\n",
        "    st.write(\"\"\"\n",
        "\n",
        "    ## Welcome to PTFI demo!\n",
        "\n",
        "    AUSTRAC plays a crucial role in ensuring the integrity of Australia’s financial system by detecting and preventing illicit financial activities.\n",
        "\n",
        "    In Australia, financial transactions involving the transfer of physical currency (cash) are subject to specific regulations enforced by AUSTRAC, the Australian Transaction Reports and Analysis Centre. One of the key regulations is related to Threshold Transaction Reports (TTRs).\n",
        "\n",
        "    A threshold transaction is defined as the transfer of physical currency equal to or exceeding A$10,000, or the equivalent amount in foreign currency. This threshold applies primarily to designated service providers, such as those offering money transfer services.\n",
        "\n",
        "    Businesses engaged in designated services are required to report threshold transactions to AUSTRAC within 10 business days using a Threshold Transaction Report (TTR). These reports are essential for AUSTRAC's efforts in detecting, deterring, and disrupting criminal and terrorist activities.\n",
        "\n",
        "    By monitoring and analyzing threshold transactions, AUSTRAC aims to identify suspicious financial activities and take appropriate actions to combat money laundering, terrorism financing, and other illicit activities in the Australian financial system. Compliance with TTR requirements is vital for businesses to uphold regulatory standards and contribute to maintaining the integrity and security of the financial sector.\n",
        "\n",
        "    ### Why is this important?\n",
        "\n",
        "    - Scenario: Money Transfer Companies have to transfer customer information to AUSTRAC if it is equal or exceeds A$10,000.\n",
        "    - Privacy Protection: Analyzing personal data often raises privacy concerns. This method keeps individual data private using Homomorpic Encryption.\n",
        "    - Secure Collaboration: Sensitive data can be analyzed jointly by multiple parties without anyone directly accessing the raw data and the result. Only authorised stakeholders and data owner have access to the private key that allows them to see the raw text.\n",
        "    - AUSTRAC serves as Australia’s anti-money laundering (AML) and counter-terrorism financing (CTF) regulator and financial intelligence unit.\n",
        "\n",
        "    Press the submit customer name and transaction amount.\n",
        "\n",
        "    \"\"\")\n",
        "\n",
        "    # User input: Name\n",
        "    name = st.text_input(\"Enter your name:\")\n",
        "\n",
        "    # Generate keys\n",
        "    public_key, private_key = paillier.generate_paillier_keypair()\n",
        "\n",
        "    if name:\n",
        "        # Encrypt name\n",
        "        encrypted_name = public_key.encrypt(string_to_numerical(name))\n",
        "        st.write(\"Encrypted name:\", encrypted_name)\n",
        "\n",
        "    # Input transaction amount\n",
        "    transaction_amount = st.number_input(\"Enter Transaction Amount:\", value=0.0, step=0.01)\n",
        "\n",
        "    # Encrypt transaction amount\n",
        "    encrypted_amount = public_key.encrypt(transaction_amount)\n",
        "\n",
        "    # Decrypt transaction amount\n",
        "    decrypted_amount = private_key.decrypt(encrypted_amount)\n",
        "    st.write(f\"Transaction amount: {decrypted_amount:.2f}\")\n",
        "\n",
        "    # Set threshold\n",
        "    threshold = st.slider(\"Select threshold for fraud detection\", min_value=0, max_value=10000, value=10000)\n",
        "\n",
        "    # Detect fraud\n",
        "    result = detect_fraud(decrypted_amount, threshold)\n",
        "    st.write(result)\n",
        "\n",
        "if __name__ == \"__main__\":\n",
        "    main()\n"
      ]
    },
    {
      "cell_type": "code",
      "execution_count": 4,
      "metadata": {
        "colab": {
          "base_uri": "https://localhost:8080/"
        },
        "id": "pmD-j7hulbOe",
        "outputId": "8c224fbd-c75f-4519-dc56-2d47e3808ff5"
      },
      "outputs": [
        {
          "output_type": "stream",
          "name": "stdout",
          "text": [
            "34.106.184.109"
          ]
        }
      ],
      "source": [
        "# This will give us the password to access the app\n",
        "!wget -q -O - https://loca.lt/mytunnelpassword"
      ]
    },
    {
      "cell_type": "code",
      "execution_count": null,
      "metadata": {
        "colab": {
          "background_save": true,
          "base_uri": "https://localhost:8080/"
        },
        "id": "Gmge78MHlyCR",
        "outputId": "112b5bc1-0078-435d-ff9f-87a88d7404da"
      },
      "outputs": [
        {
          "output_type": "stream",
          "name": "stdout",
          "text": [
            "\n",
            "Collecting usage statistics. To deactivate, set browser.gatherUsageStats to false.\n",
            "\u001b[0m\n",
            "\u001b[0m\n",
            "\u001b[34m\u001b[1m  You can now view your Streamlit app in your browser.\u001b[0m\n",
            "\u001b[0m\n",
            "\u001b[34m  Network URL: \u001b[0m\u001b[1mhttp://172.28.0.12:8501\u001b[0m\n",
            "\u001b[34m  External URL: \u001b[0m\u001b[1mhttp://34.106.184.109:8501\u001b[0m\n",
            "\u001b[0m\n",
            "\u001b[K\u001b[?25hnpx: installed 22 in 3.643s\n",
            "your url is: https://seven-pianos-wave.loca.lt\n"
          ]
        }
      ],
      "source": [
        "# Open the app and click on the link below\n",
        "!streamlit run intersection.py & npx localtunnel --port 8501"
      ]
    }
  ],
  "metadata": {
    "colab": {
      "provenance": []
    },
    "kernelspec": {
      "display_name": "Python 3",
      "name": "python3"
    },
    "language_info": {
      "name": "python"
    }
  },
  "nbformat": 4,
  "nbformat_minor": 0
}