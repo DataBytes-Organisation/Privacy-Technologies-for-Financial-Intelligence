{
 "cells": [
  {
   "cell_type": "markdown",
   "metadata": {},
   "source": [
    "This program can be used to generate any number of transactions for any date range by tweaking the values."
   ]
  },
  {
   "cell_type": "code",
   "execution_count": 2,
   "metadata": {},
   "outputs": [
    {
     "name": "stdout",
     "output_type": "stream",
     "text": [
      "Transaction list has been written to transaction_list.csv.\n"
     ]
    }
   ],
   "source": [
    "import uuid\n",
    "import random\n",
    "from datetime import datetime, timedelta\n",
    "import csv\n",
    "\n",
    "def generate_transaction_list(num_transactions):\n",
    "    transaction_list = []\n",
    "    balance = 60000\n",
    "    #dates are in yyyy,m,d format\n",
    "    start_date = datetime(2023, 4, 1)\n",
    "    end_date = datetime(2024, 4, 1)\n",
    "    current_date = start_date\n",
    "\n",
    "    for _ in range(num_transactions):\n",
    "        transaction_id = str(uuid.uuid4())\n",
    "        transaction_date = current_date.strftime(\"%d-%m-%Y\")\n",
    "        transaction_type = random.choice([\"credit\", \"debit\"])\n",
    "        \n",
    "        if transaction_type == \"credit\":\n",
    "            credit_amt = random.randint(100, 4000)\n",
    "            debit_amt = 0\n",
    "            balance += credit_amt\n",
    "        else:\n",
    "            credit_amt = 0\n",
    "            debit_amt = random.randint(100, 4000)\n",
    "            balance -= debit_amt\n",
    "        \n",
    "        transaction = {\n",
    "            \"transaction_id\": transaction_id,\n",
    "            \"date\": transaction_date,\n",
    "            \"transaction_type\": transaction_type,\n",
    "            \"credit_amt\": credit_amt,\n",
    "            \"debit_amt\": debit_amt,\n",
    "            \"balance\": balance\n",
    "        }\n",
    "        transaction_list.append(transaction)\n",
    "        \n",
    "        # Increment the current date by a random number of days (1 to 7)\n",
    "        days_to_add = random.randint(1, 7)\n",
    "        current_date += timedelta(days=days_to_add)\n",
    "        \n",
    "        # If the current date exceeds the end date, break the loop\n",
    "        if current_date > end_date:\n",
    "            break\n",
    "    \n",
    "    return transaction_list\n",
    "\n",
    "# Generate sequential transactions\n",
    "transactions = generate_transaction_list(1000)\n",
    "\n",
    "# Write the transaction list to a CSV file\n",
    "output_file = \"transaction_list.csv\"\n",
    "fieldnames = [\"transaction_id\", \"date\", \"transaction_type\", \"credit_amt\", \"debit_amt\", \"balance\"]\n",
    "\n",
    "with open(output_file, \"w\", newline=\"\") as file:\n",
    "    writer = csv.DictWriter(file, fieldnames=fieldnames)\n",
    "    writer.writeheader()\n",
    "    writer.writerows(transactions)\n",
    "\n",
    "print(f\"Transaction list has been written to {output_file}.\")"
   ]
  }
 ],
 "metadata": {
  "kernelspec": {
   "display_name": "deakin_env",
   "language": "python",
   "name": "python3"
  },
  "language_info": {
   "codemirror_mode": {
    "name": "ipython",
    "version": 3
   },
   "file_extension": ".py",
   "mimetype": "text/x-python",
   "name": "python",
   "nbconvert_exporter": "python",
   "pygments_lexer": "ipython3",
   "version": "3.8.19"
  }
 },
 "nbformat": 4,
 "nbformat_minor": 2
}
