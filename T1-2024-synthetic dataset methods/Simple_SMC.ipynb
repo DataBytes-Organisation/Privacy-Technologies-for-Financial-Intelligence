{
  "nbformat": 4,
  "nbformat_minor": 0,
  "metadata": {
    "colab": {
      "provenance": []
    },
    "kernelspec": {
      "name": "python3",
      "display_name": "Python 3"
    },
    "language_info": {
      "name": "python"
    }
  },
  "cells": [
    {
      "cell_type": "markdown",
      "source": [
        "#Secure Multiparty Computation Experiment\n",
        "\n",
        "Secure Multiparty Computation (SMPC) is a technique that allows multiple parties to collaborate on getting a specific output from a function over their individual inputs while maintaining those input in secret and not revealing them.   \n",
        "\n",
        "SMPC start to be theorised as mathematical and cryptographical concepts in 1982 with the so-called Millionaires’ Problem, however Companies institutions and organizations have only started utilizing MPC in real-world scenarios in the last fifteen years or so. in 1986 by Andrew Yao so called Garbled Circuits.  The computation and implementation of SMPC became plausible in mid 2000s with the first practical use of SMPC was to calculate sugar beet market prices in Denmark, keeping the farmers’ private data confidential (Maxwell, 2020, p.13).\n",
        "\n",
        "## Advantages\n",
        "\n",
        "- **Privacy control:** SMPC methods ensure the data and privacy of participants remain private. It allows the parties to still perform the activity that is required though processing of data with SMPC, while their individual information is kept unrevealed.\n",
        "- **Collaborative analysis:** SMPC allows multiple parties or organisations perform an analysis or detection on sensitive information jointly while their own information is not shared to other parties.\n",
        "- **Versatile application:** SMPC protocols can be utilised in various use cases and scenarios. This includes data sharing across industries to detect financial crime and Money Laundry activities, health care data sharing, market clearing and betting products and compliance reporting.  \n",
        "- **Accuracy:** Computations can be carried out accurately on the combined data without compromising privacy, which is beneficial for sensitive data analysis.\n",
        "- **Regulatory Compliance:** It can help organisations comply with data protection regulations by processing data without revealing it.\n",
        "\n",
        "## Disadvantages\n",
        "\n",
        "Despite its potential, various barriers hinder SMPC adoption by institutions:\n",
        "\n",
        "- **Complexity:** Implementing SMPC protocols is complex and require significant expertise in cryptography. It also requires additional architectural components to support the requirements of the privacy preserving protocols\n",
        "\n",
        "- **Performance:** SMPC can be computationally intensive and slower than traditional computations, particularly as the number of parties involved increases. This has hindered these methods to be very practical in some of the use cases.\n",
        "\n",
        "- **Scalability:** Large-scale applications of SMPC can be challenging due to the increased computational and communication overhead.\n",
        "\n",
        "- **Cost:** due to the high complexity and high computational power that is required to implement the SMPC, it is still considered to involve high processing and implementation cost.\n",
        "\n",
        "## References\n",
        "\n",
        "Maxwell, N. (2020). Innovation and discussion: Case studies of the use of privacy-preserving  Analysis to tackle financial crime. Future Intelligence Sharing (FFIS) research programme, Version 1.3.\n",
        "\n",
        "Abdullahi, S., Chen, J., Masoomeh, M. (2023) PTFI Secure MultiParty Computation Research Report. Deakin University"
      ],
      "metadata": {
        "id": "XUkWo8zRQkue"
      }
    },
    {
      "cell_type": "code",
      "source": [
        "import random\n",
        "\n",
        "# Function to generate shares for each financial institution's account balances\n",
        "def generate_shares_for_institutions(account_balances, threshold):\n",
        "    shares = []\n",
        "    for institution_id, balance in account_balances.items():\n",
        "        institution_share = balance + random.randint(-1000, 1000)  # Adding noise for security (Differential privacy)\n",
        "        shares.append((institution_id, institution_share))\n",
        "    return shares\n",
        "\n",
        "# Function to reconstruct the total account balance from shares\n",
        "def reconstruct_total_balance(shares):\n",
        "    total = sum(y for _, y in shares)\n",
        "    return total  # Total account balance\n",
        "\n",
        "# Example usage\n",
        "def main():\n",
        "    # Financial institution account balances\n",
        "    account_balances = {\n",
        "        \"Bank A\": 10000,\n",
        "        \"Bank B\": 1500,\n",
        "        \"Bank C\": 1000,\n",
        "        \"Bank D\": 5000\n",
        "    }\n",
        "\n",
        "    # Parameters\n",
        "    threshold = 3  # Threshold number of institutions required for reconstruction\n",
        "\n",
        "    # Generate shares for each financial institution's account balances\n",
        "    shares = generate_shares_for_institutions(account_balances, threshold)\n",
        "    print(\"Generated shares:\")\n",
        "    for share in shares:\n",
        "        print(share)\n",
        "\n",
        "    # Simulate collaboration between financial institutions\n",
        "    collaboration_shares = random.sample(shares, threshold)\n",
        "    print(\"\\nShares used for collaboration:\")\n",
        "    for share in collaboration_shares:\n",
        "        print(share)\n",
        "\n",
        "    # Reconstruct the total account balance\n",
        "    reconstructed_total_balance = reconstruct_total_balance(collaboration_shares)\n",
        "    print(\"\\nReconstructed total account balance:\", reconstructed_total_balance)\n",
        "\n",
        "    # Check if the total account balance exceeds a certain threshold\n",
        "    balance_threshold = 10000\n",
        "    if reconstructed_total_balance > balance_threshold:\n",
        "        print(\"Total account balance exceeds the threshold of\", balance_threshold)\n",
        "    else:\n",
        "        print(\"Total account balance does not exceed the threshold.\")\n",
        "\n",
        "if __name__ == \"__main__\":\n",
        "    main()"
      ],
      "metadata": {
        "colab": {
          "base_uri": "https://localhost:8080/"
        },
        "id": "zVDgukwZSI0l",
        "outputId": "0bbc57b3-ea4f-46fc-b97c-0d7cd37c4bb4"
      },
      "execution_count": null,
      "outputs": [
        {
          "output_type": "stream",
          "name": "stdout",
          "text": [
            "Generated shares:\n",
            "('Bank A', 10729)\n",
            "('Bank B', 2191)\n",
            "('Bank C', 270)\n",
            "('Bank D', 4471)\n",
            "\n",
            "Shares used for collaboration:\n",
            "('Bank D', 4471)\n",
            "('Bank C', 270)\n",
            "('Bank A', 10729)\n",
            "\n",
            "Reconstructed total account balance: 15470\n",
            "Total account balance exceeds the threshold of 10000\n"
          ]
        }
      ]
    }
  ]
}