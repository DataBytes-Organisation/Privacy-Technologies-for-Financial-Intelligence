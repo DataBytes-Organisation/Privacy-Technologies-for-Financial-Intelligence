{
  "nbformat": 4,
  "nbformat_minor": 0,
  "metadata": {
    "colab": {
      "provenance": []
    },
    "kernelspec": {
      "name": "python3",
      "display_name": "Python 3"
    },
    "language_info": {
      "name": "python"
    }
  },
  "cells": [
    {
      "cell_type": "markdown",
      "source": [
        "#Scenario System Design"
      ],
      "metadata": {
        "id": "1HTDoLFJckUE"
      }
    },
    {
      "cell_type": "code",
      "source": [
        "#install package for encryption\n",
        "!pip install phe"
      ],
      "metadata": {
        "colab": {
          "base_uri": "https://localhost:8080/"
        },
        "id": "MAxTiGU9l8R-",
        "outputId": "a839192b-a97e-4ae9-ccf3-3cd5dec37683"
      },
      "execution_count": 4,
      "outputs": [
        {
          "output_type": "stream",
          "name": "stdout",
          "text": [
            "Collecting phe\n",
            "  Downloading phe-1.5.0-py2.py3-none-any.whl (53 kB)\n",
            "\u001b[?25l     \u001b[90m━━━━━━━━━━━━━━━━━━━━━━━━━━━━━━━━━━━━━━━━\u001b[0m \u001b[32m0.0/53.7 kB\u001b[0m \u001b[31m?\u001b[0m eta \u001b[36m-:--:--\u001b[0m\r\u001b[2K     \u001b[91m━━━━━━━━━━━━━━━━━━━━━━━━━━━━━━━━━━━━━━\u001b[0m\u001b[90m╺\u001b[0m\u001b[90m━\u001b[0m \u001b[32m51.2/53.7 kB\u001b[0m \u001b[31m1.3 MB/s\u001b[0m eta \u001b[36m0:00:01\u001b[0m\r\u001b[2K     \u001b[90m━━━━━━━━━━━━━━━━━━━━━━━━━━━━━━━━━━━━━━━━\u001b[0m \u001b[32m53.7/53.7 kB\u001b[0m \u001b[31m1.1 MB/s\u001b[0m eta \u001b[36m0:00:00\u001b[0m\n",
            "\u001b[?25hInstalling collected packages: phe\n",
            "Successfully installed phe-1.5.0\n"
          ]
        }
      ]
    },
    {
      "cell_type": "code",
      "source": [
        "#import libraries\n",
        "import os\n",
        "import math\n",
        "import time\n",
        "import numpy as np\n",
        "import pandas as pd\n",
        "import phe.encoding\n",
        "from phe import paillier\n",
        "from sklearn.svm import SVC\n",
        "from sklearn.metrics import accuracy_score"
      ],
      "metadata": {
        "id": "_lFbvGTXcrJp"
      },
      "execution_count": 5,
      "outputs": []
    },
    {
      "cell_type": "code",
      "source": [
        "# Functions\n",
        "\n",
        "class ExampleEncodedNumber(phe.encoding.EncodedNumber):\n",
        "    BASE = 64\n",
        "    LOG2_BASE = math.log(BASE, 2)\n",
        "\n",
        "def encrypt_vector(vec, public_key):\n",
        "  # encoded_vector = [ExampleEncodedNumber.encode(public_key, v) for v in vec]\n",
        "  # encrypted_vector = [public_key.encrypt(ev) for ev in encoded_vector]\n",
        "  encrypted_vector = [public_key.encrypt(ev) for ev in vec]\n",
        "  return encrypted_vector\n",
        "\n",
        "def decrypt_vector(vec, private_key):\n",
        "  # decoded_vector = [private_key.decrypt_encoded(x, ExampleEncodedNumber) for x in vec]\n",
        "  # decrypted_vector = [d.decode() for d in decoded_vector]\n",
        "  decrypted_vector = [private_key.decrypt(x) for x in vec]\n",
        "  return decrypted_vector\n",
        "\n",
        "def load_data(input_file, target_feature):\n",
        "  # Load data and separate the features and labels\n",
        "  data = pd.read_csv(input_file).dropna()\n",
        "  X = data.drop(target_feature, axis=1).values.tolist()\n",
        "  y = data[target_feature].values.tolist()\n",
        "  return X, y\n"
      ],
      "metadata": {
        "id": "pBjFq9Zudagr"
      },
      "execution_count": 33,
      "outputs": []
    },
    {
      "cell_type": "markdown",
      "source": [
        "##Bank Server"
      ],
      "metadata": {
        "id": "VcLOmgg1dotI"
      }
    },
    {
      "cell_type": "code",
      "source": [
        "class Client:\n",
        "\n",
        "    def __init__(self, key_length):\n",
        "        # Generate the public and private keys for Paillier encryption\n",
        "        public_key, private_key = paillier.generate_paillier_keypair(n_length=key_length)\n",
        "        self.public_key, self.private_key = public_key, private_key\n",
        "\n",
        "    def encrypt_data(self, input_file, target_feature):\n",
        "        # Encrypt the testing data and labels\n",
        "        self.X_test, self.y_test = load_data(input_file, target_feature)\n",
        "        self.X_test_encrypted = [encrypt_vector(x, self.public_key) for x in self.X_test]\n",
        "        self.y_test_encrypted = encrypt_vector(self.y_test, self.public_key)\n",
        "        return self.X_test_encrypted, self.y_test_encrypted\n",
        "\n",
        "    def eval(self, encrypted_predictions):\n",
        "        logits = decrypt_vector(encrypted_predictions, self.private_key)\n",
        "        y_pred = [1 if l>0 else 0 for l in logits]\n",
        "        test_accuracy = accuracy_score(self.y_test, y_pred)\n",
        "        return test_accuracy"
      ],
      "metadata": {
        "id": "bOxEiA4FeJtn"
      },
      "execution_count": 32,
      "outputs": []
    },
    {
      "cell_type": "markdown",
      "source": [
        "##PTFI Server"
      ],
      "metadata": {
        "id": "yPBUDcnaeOwJ"
      }
    },
    {
      "cell_type": "markdown",
      "source": [
        "We are using SVM Classifier model.\n"
      ],
      "metadata": {
        "id": "e77SwWJnfvNz"
      }
    },
    {
      "cell_type": "code",
      "source": [
        "class Server:\n",
        "\n",
        "    def __init__(self, input_file, target_feature):\n",
        "        self.model = None\n",
        "        self.X_train, self.y_train = load_data(input_file, target_feature)\n",
        "\n",
        "    def train_model(self,hyperparams):\n",
        "        # Train the SVM model\n",
        "        svm_model = SVC(kernel=hyperparams['kernel'], C=hyperparams['C'], gamma=hyperparams['gamma'])\n",
        "        svm_model.fit(self.X_train, self.y_train)\n",
        "        self.model = svm_model\n",
        "\n",
        "    def predict(self, X_test_encrypted):\n",
        "        # Make predictions on the encrypted test data using the trained model\n",
        "        encrypted_logits = list()\n",
        "        w = self.model.coef_[0]\n",
        "        b = self.model.intercept_[0]\n",
        "        for x in X_test_encrypted:\n",
        "          score = b\n",
        "          for i in range(len(x)):\n",
        "            score += x[i]*w[i]\n",
        "          encrypted_logits.append(score)\n",
        "        return encrypted_logits"
      ],
      "metadata": {
        "id": "qQ9QCBkOeR9t"
      },
      "execution_count": 34,
      "outputs": []
    },
    {
      "cell_type": "markdown",
      "source": [
        "Data Transfer code"
      ],
      "metadata": {
        "id": "SjeRxSICexEj"
      }
    },
    {
      "cell_type": "markdown",
      "source": [
        "Lets assume that we are our SVM model will predict fraud. We first train model in our server with our own dataset. Then we encrypt the bank dataset on the bank server machine.The bank will than send the encrypted data to our server to use our model to predict fraud with their own dataset. Then we send the encrypted output prediction back to the bank where the bank will decrypt the output prediction."
      ],
      "metadata": {
        "id": "xeVC0uFT0qkZ"
      }
    },
    {
      "cell_type": "code",
      "source": [
        "start_time = time.time()\n",
        "\n",
        "# Parameters\n",
        "key_length = 1024\n",
        "target_feature = \"IsFraud\"\n",
        "hyperparameters = {'kernel':'linear', 'C':1, 'gamma':'auto'}\n",
        "\n",
        "# Instantiate Server\n",
        "server = Server(\"PTFItrainingdataset.csv\", target_feature)\n",
        "# Train SVM Classifier\n",
        "svm_model = server.train_model(hyperparameters)\n",
        "\n",
        "# Instantiate Bank\n",
        "client = Client(key_length)\n",
        "# Encrypt data on bank machine\n",
        "X_test_encrypted, y_test_encrypted = client.encrypt_data(\"bank/datasettest.csv\", target_feature)\n",
        "\n",
        "# Send encrypted data to server for inference\n",
        "encrypted_preds = server.predict(X_test_encrypted)\n",
        "\n",
        "# Send encrypted predictions back to bank and evaluate accuracy\n",
        "test_accuracy = client.eval(encrypted_preds)\n",
        "print(f'\\n\\nTest accuracy for Privacy-preserving SVM Model is {round(test_accuracy, 2)}')\n",
        "\n",
        "end_time = time.time()\n",
        "time_taken = (end_time - start_time)\n",
        "print(f'\\n\\nTotal Time Taken: = {time_taken//60} mins {round(time_taken%60,2)} secs')"
      ],
      "metadata": {
        "id": "BSvTh5wUepVA"
      },
      "execution_count": null,
      "outputs": []
    }
  ]
}