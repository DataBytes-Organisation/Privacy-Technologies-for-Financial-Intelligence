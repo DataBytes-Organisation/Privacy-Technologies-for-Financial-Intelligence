{
 "cells": [
  {
   "cell_type": "markdown",
   "metadata": {},
   "source": [
    "This program can be used to generate burst transactions that replicate fraudulent transactions in financial transactions. The burst transactions are inserted at every \"prime\" row."
   ]
  },
  {
   "cell_type": "code",
   "execution_count": 1,
   "metadata": {},
   "outputs": [],
   "source": [
    "import csv\n",
    "import math\n",
    "\n",
    "def is_prime(n):\n",
    "    if n <= 1:\n",
    "        return False\n",
    "    for i in range(2, int(math.sqrt(n)) + 1):\n",
    "        if n % i == 0:\n",
    "            return False\n",
    "    return True\n",
    "\n",
    "def split_debit_transactions(input_file, output_file):\n",
    "    with open(input_file, 'r') as csv_file:\n",
    "        reader = csv.DictReader(csv_file)\n",
    "        fieldnames = ['transaction_id', 'credit_amt', 'debit_amt', 'balance', 'date', 'transaction_type']\n",
    "        transactions = list(reader)\n",
    "\n",
    "    new_transactions = []\n",
    "    transaction_id = 1\n",
    "\n",
    "    for transaction in transactions:\n",
    "        if transaction['transaction_type'] == 'debit':\n",
    "            debit_amt = float(transaction['debit_amt'])\n",
    "            balance = float(transaction['balance'])\n",
    "            num_splits = 2\n",
    "            while not is_prime(num_splits):\n",
    "                num_splits += 1\n",
    "\n",
    "            split_amount = debit_amt / num_splits\n",
    "\n",
    "            for i in range(num_splits):\n",
    "                new_transaction = {\n",
    "                   \n",
    "                    'transaction_id': transaction_id,\n",
    "                    'credit_amt': '0',\n",
    "                    'debit_amt': str(split_amount),\n",
    "                    'balance': str(balance - split_amount * (i + 1)),\n",
    "                    'date': transaction['date'],\n",
    "                    'transaction_type': 'debit'\n",
    "                }\n",
    "                new_transactions.append(new_transaction)\n",
    "                transaction_id += 1\n",
    "\n",
    "            credit_transaction = {\n",
    "               \n",
    "                'transaction_id': transaction_id,\n",
    "                'credit_amt': transaction['debit_amt'],\n",
    "                'debit_amt': '0',\n",
    "                'balance': transaction['balance'],\n",
    "                'date': transaction['date'],\n",
    "                'transaction_type': 'credit'\n",
    "            }\n",
    "            new_transactions.append(credit_transaction)\n",
    "            transaction_id += 1\n",
    "        else:\n",
    "            transaction['transaction_id'] = transaction_id\n",
    "            new_transactions.append(transaction)\n",
    "            transaction_id += 1\n",
    "\n",
    "    with open(output_file, 'w', newline='') as csv_file:\n",
    "        writer = csv.DictWriter(csv_file, fieldnames=fieldnames)\n",
    "        writer.writeheader()\n",
    "        writer.writerows(new_transactions)\n",
    "\n",
    "# Example usage\n",
    "input_file = 'transaction_list.csv'\n",
    "output_file = 'split_transactions_new.csv'\n",
    "split_debit_transactions(input_file, output_file)"
   ]
  }
 ],
 "metadata": {
  "kernelspec": {
   "display_name": "deakin_env",
   "language": "python",
   "name": "python3"
  },
  "language_info": {
   "codemirror_mode": {
    "name": "ipython",
    "version": 3
   },
   "file_extension": ".py",
   "mimetype": "text/x-python",
   "name": "python",
   "nbconvert_exporter": "python",
   "pygments_lexer": "ipython3",
   "version": "3.8.19"
  }
 },
 "nbformat": 4,
 "nbformat_minor": 2
}
