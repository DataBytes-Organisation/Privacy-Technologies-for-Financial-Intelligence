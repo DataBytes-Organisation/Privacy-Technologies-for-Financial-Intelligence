#import necessary libraries
import pandas as pd
import numpy as np
import time

#reads csv files and converts them to dataframes
df1 = pd.read_csv('/home/user/Desktop/SIT374/synth_data1.csv') #need to change this for your local machine
df2 = pd.read_csv('/home/user/Desktop/SIT374/synth_data2.csv') #need to change this for your local machine

tic = time.perf_counter() # starts the timer

concat = pd.concat([df1,df2]) #concatenates two dataframes (e.g. a list of suspicious ID numbers and a list of customer ID numbers)
idx = pd.Index(concat['S ID#']) #creates an index of the sender ID column
r = pd.DataFrame(idx.duplicated(keep=False)) #finds and returns the index number of duplicates of ID numbers
r.index.tolist() #takes duplicate ID index numbers and pushes them to a list

toc = time.perf_counter() #ends the timer
print(f"Data comparison required: {toc - tic:0.6f} seconds") #reports text and time taken to process
print(r.head()) #prints the dataframe head
dups = r[r[0] == True].index.values.tolist() #creates a list of the values (ID numbers) at each index number

print('The number of duplicates is: ', len(dups)) #reports text and the number of duplicate ID numbers
print('Duplicate row index location(s): ', dups), print() #reports text and the index numbers of each ID value

print('List of documents requiring scrutiny:'), print() #prints text and creates a new line
for i in dups: print(concat['S ID#'].loc[i]),print() #prints a list of the values of each duplicate ID (i.e. actual ID number)
