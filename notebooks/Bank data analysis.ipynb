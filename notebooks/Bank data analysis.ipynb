{
 "cells": [
  {
   "cell_type": "markdown",
   "metadata": {},
   "source": [
    "\n",
    "**Bank Transaction Data**\n",
    "Code to start analysis on this or similar dataset.\n",
    "\n",
    "•\tWhat are the accounts that are being flagged for suspicious activity?\n",
    "\n",
    "•\tCan the account holders of the accounts be cross referenced with other financial institutions, for similar suspicious behaviour?\n",
    "\n",
    "•\tHow can this be securely communicated (database to database)\n",
    "\n",
    "About this Dataset:Extracted bank account statements of various bank accounts\n",
    "\n",
    "**Column in this dataset**\n",
    "\n",
    "**Account No** - This represents the account number involved in transaction.\n",
    "\n",
    "**Date** - Date of transaction\n",
    "\n",
    "**Transaction Details** - Transaction narrations in bank statements\n",
    "\n",
    "**Cheque No** - This indicates the cheque number\n",
    "\n",
    "**Value Date** - Date of completion of transaction\n",
    "\n",
    "**Withdrawal Amount** - Indicates the amount withdrawn\n",
    "\n",
    "**Deposit Amount** - Indicates the amount deposited\n",
    "\n",
    "**Balance Amount** - Current balance of account\n",
    "\n"
   ]
  },
  {
   "cell_type": "code",
   "execution_count": null,
   "id": "cc3b8ca6",
   "metadata": {},
   "outputs": [
    {
     "name": "stdout",
     "output_type": "stream",
     "text": [
      "['Account No', 'DATE', 'TRANSACTION DETAILS', 'CHQ.NO.', 'VALUE DATE', 'WITHDRAWAL AMT', 'DEPOSIT AMT', 'BALANCE AMT', '.']\n",
      "116201\n",
      "9\n"
     ]
    }
   ],
   "source": [
    "import pandas as pd\n",
    "\n",
    "df = pd.read_excel('bank.xlsx')\n",
    "print(df.columns.tolist())\n",
    "print(df.shape[0])\n",
    "\n",
    "print(df.shape[1])\n"
   ]
  },
  {
   "cell_type": "code",
   "execution_count": 13,
   "id": "009053f2",
   "metadata": {},
   "outputs": [
    {
     "name": "stdout",
     "output_type": "stream",
     "text": [
      "           Account No       DATE             TRANSACTION DETAILS  CHQ.NO.  \\\n",
      "1864    409000493201' 2018-08-31                BBPS DT 31082018      NaN   \n",
      "2827    409000425051' 2016-12-03       NEFT/SBHY516338879156/JAY      NaN   \n",
      "2898    409000425051' 2017-03-21       NEFT/SBIN417080713726/NAR      NaN   \n",
      "2903    409000425051' 2017-05-03       NEFT/SBIN117123335066/GAY      NaN   \n",
      "3057    409000438611' 2016-07-07       RUPAY POS ACQ SETTL 06071      NaN   \n",
      "...               ...        ...                             ...      ...   \n",
      "102586  409000362497' 2017-03-10             IMPS IW 10032017 2C      NaN   \n",
      "102958  409000362497' 2017-03-23             IMPS IW 23032017 2C      NaN   \n",
      "104850  409000362497' 2017-06-06             TO For 709003779660      NaN   \n",
      "106975  409000362497' 2017-08-29       Repayment credit [7090027      NaN   \n",
      "115278  409000362497' 2018-12-12  Indiaforensic MERCHANT PAYMENT      NaN   \n",
      "\n",
      "       VALUE DATE  WITHDRAWAL AMT  DEPOSIT AMT   BALANCE AMT  .  \n",
      "1864   2018-08-31             NaN      8238.05  1.710709e+06  .  \n",
      "2827   2016-12-03             NaN      8500.00  1.111086e+06  .  \n",
      "2898   2017-03-21             NaN      8050.00  5.392368e+05  .  \n",
      "2903   2017-05-03             NaN      8050.00  5.492878e+05  .  \n",
      "3057   2016-07-07             NaN      9915.55 -5.479720e+08  .  \n",
      "...           ...             ...          ...           ... ..  \n",
      "102586 2017-03-10             NaN      9858.10 -1.857092e+09  .  \n",
      "102958 2017-03-23             NaN      8188.65 -1.853747e+09  .  \n",
      "104850 2017-06-06             NaN      9675.00 -1.907230e+09  .  \n",
      "106975 2017-08-28             NaN      8529.00 -1.907176e+09  .  \n",
      "115278 2018-12-12             NaN      8316.00 -1.898965e+09  .  \n",
      "\n",
      "[385 rows x 9 columns]\n"
     ]
    }
   ],
   "source": [
    "import pandas as pd\n",
    "\n",
    "filtered_df = df[(df['DEPOSIT AMT'] > 8000) & (df['DEPOSIT AMT'] < 10000)]\n",
    "\n",
    "filtered_df.to_csv('001.csv', index=False)\n",
    "\n",
    "print(filtered_df)"
   ]
  }
 ],
 "metadata": {
  "kernelspec": {
   "display_name": "Python 3 (ipykernel)",
   "language": "python",
   "name": "python3"
  },
  "language_info": {
   "codemirror_mode": {
    "name": "ipython",
    "version": 3
   },
   "file_extension": ".py",
   "mimetype": "text/x-python",
   "name": "python",
   "nbconvert_exporter": "python",
   "pygments_lexer": "ipython3",
   "version": "3.10.9"
  }
 },
 "nbformat": 4,
 "nbformat_minor": 5
}
