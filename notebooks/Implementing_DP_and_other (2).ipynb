{
  "cells": [
    {
      "cell_type": "markdown",
      "id": "a72b813f",
      "metadata": {
        "id": "a72b813f"
      },
      "source": [
        "# Implement Differential Privacy on Financial Data\n",
        "\n",
        "There are several libraries and packages that provide tools for implementing differential privacy in various languages. We will focus on Python.\n",
        "\n",
        "\n",
        "## General Differential Privacy\n",
        "\n",
        "- **PySyft:** Library for encrypted, privacy-preserving machine learning.\n",
        "- **PySyft Grid:** A peer-to-peer network of PySyft nodes.\n",
        "- **Diffprivlib:** A library for differentially private machine learning.\n",
        "\n"
      ]
    },
    {
      "cell_type": "code",
      "source": [
        "# Install IBM package\n",
        "!pip install diffprivlib"
      ],
      "metadata": {
        "id": "FJ3ONbrGq5Qg",
        "colab": {
          "base_uri": "https://localhost:8080/"
        },
        "outputId": "a26125c1-e95b-4e99-a4fb-d7c36175c8cf"
      },
      "id": "FJ3ONbrGq5Qg",
      "execution_count": null,
      "outputs": [
        {
          "output_type": "stream",
          "name": "stdout",
          "text": [
            "Collecting diffprivlib\n",
            "  Downloading diffprivlib-0.6.3-py3-none-any.whl (176 kB)\n",
            "\u001b[?25l     \u001b[90m━━━━━━━━━━━━━━━━━━━━━━━━━━━━━━━━━━━━━━━━\u001b[0m \u001b[32m0.0/176.0 kB\u001b[0m \u001b[31m?\u001b[0m eta \u001b[36m-:--:--\u001b[0m\r\u001b[2K     \u001b[91m━━━━━━━━━━━━━━━━━━━━\u001b[0m\u001b[91m╸\u001b[0m\u001b[90m━━━━━━━━━━━━━━━━━━━\u001b[0m \u001b[32m92.2/176.0 kB\u001b[0m \u001b[31m2.5 MB/s\u001b[0m eta \u001b[36m0:00:01\u001b[0m\r\u001b[2K     \u001b[90m━━━━━━━━━━━━━━━━━━━━━━━━━━━━━━━━━━━━━━━━\u001b[0m \u001b[32m176.0/176.0 kB\u001b[0m \u001b[31m3.5 MB/s\u001b[0m eta \u001b[36m0:00:00\u001b[0m\n",
            "\u001b[?25hRequirement already satisfied: numpy>=1.21.6 in /usr/local/lib/python3.10/dist-packages (from diffprivlib) (1.23.5)\n",
            "Requirement already satisfied: scikit-learn>=0.24.2 in /usr/local/lib/python3.10/dist-packages (from diffprivlib) (1.2.2)\n",
            "Requirement already satisfied: scipy>=1.7.3 in /usr/local/lib/python3.10/dist-packages (from diffprivlib) (1.11.4)\n",
            "Requirement already satisfied: joblib>=0.16.0 in /usr/local/lib/python3.10/dist-packages (from diffprivlib) (1.3.2)\n",
            "Requirement already satisfied: setuptools>=49.0.0 in /usr/local/lib/python3.10/dist-packages (from diffprivlib) (67.7.2)\n",
            "Requirement already satisfied: threadpoolctl>=2.0.0 in /usr/local/lib/python3.10/dist-packages (from scikit-learn>=0.24.2->diffprivlib) (3.2.0)\n",
            "Installing collected packages: diffprivlib\n",
            "Successfully installed diffprivlib-0.6.3\n"
          ]
        }
      ]
    },
    {
      "cell_type": "markdown",
      "source": [
        "# Why create synthetic data?\n",
        "\n",
        "Creating synthetic datasets for financial crime when real datasets are unavailable due to privacy concerns and regulations can be a viable solution. However, it’s crucial to note that the effectiveness of synthetic datasets depends on the quality of the generation process. The synthetic data should accurately capture statistical properties and patterns present in real financial data to ensure that models trained on such data are relevant and reliable in real-world applications.\n",
        "\n",
        "Faker Documentation: https://faker.readthedocs.io/en/master/"
      ],
      "metadata": {
        "id": "z_E7O--0LXcK"
      },
      "id": "z_E7O--0LXcK"
    },
    {
      "cell_type": "code",
      "source": [
        "#First install the faker package\n",
        "!pip install faker"
      ],
      "metadata": {
        "colab": {
          "base_uri": "https://localhost:8080/"
        },
        "id": "4Rb-dJ1wwk2h",
        "outputId": "1006ccfe-dace-4db8-c29d-637f2c299998"
      },
      "id": "4Rb-dJ1wwk2h",
      "execution_count": null,
      "outputs": [
        {
          "output_type": "stream",
          "name": "stdout",
          "text": [
            "Collecting faker\n",
            "  Downloading Faker-20.1.0-py3-none-any.whl (1.7 MB)\n",
            "\u001b[2K     \u001b[90m━━━━━━━━━━━━━━━━━━━━━━━━━━━━━━━━━━━━━━━━\u001b[0m \u001b[32m1.7/1.7 MB\u001b[0m \u001b[31m14.6 MB/s\u001b[0m eta \u001b[36m0:00:00\u001b[0m\n",
            "\u001b[?25hRequirement already satisfied: python-dateutil>=2.4 in /usr/local/lib/python3.10/dist-packages (from faker) (2.8.2)\n",
            "Requirement already satisfied: six>=1.5 in /usr/local/lib/python3.10/dist-packages (from python-dateutil>=2.4->faker) (1.16.0)\n",
            "Installing collected packages: faker\n",
            "Successfully installed faker-20.1.0\n"
          ]
        }
      ]
    },
    {
      "cell_type": "code",
      "execution_count": null,
      "id": "48a5a434",
      "metadata": {
        "id": "48a5a434"
      },
      "outputs": [],
      "source": [
        "import numpy as np\n",
        "import pandas as pd\n",
        "from faker import Faker\n",
        "from datetime import datetime, timedelta\n",
        "\n",
        "def generate_synthetic_data():\n",
        "    # Set seeds for reproducibility\n",
        "    np.random.seed(42)\n",
        "    fake = Faker()\n",
        "    Faker.seed(42)\n",
        "\n",
        "    # Number of rows in the dataset\n",
        "    n_rows = 10000\n",
        "\n",
        "    # Generate synthetic data\n",
        "    data = {\n",
        "        'Cardholder_Name': [fake.name() for _ in range(n_rows)],\n",
        "        'Customer_ID': np.arange(1, n_rows + 1),\n",
        "        'Age': np.random.randint(18, 100, n_rows),\n",
        "        'Transaction_Date': [fake.date_between(start_date='-365d', end_date='today') for _ in range(n_rows)],\n",
        "        'Transaction_Amount_AUD': np.random.uniform(1, 5000, n_rows),\n",
        "        'Merchant_Name': [fake.company() for _ in range(n_rows)],\n",
        "        'Credit_Score': np.random.randint(300, 850, n_rows),\n",
        "        'Annual_Income': np.random.uniform(50000, 320000, n_rows),\n",
        "        'Years_In_Current_Job': np.random.choice(['< 1 year', '1 year', '2 years', '3 years', '4 years', '5 years', '6 years', '7 years', '8 years', '9 years', '10+ years'], n_rows),\n",
        "        'Home_Ownership': np.random.choice(['Rent', 'Own', 'Mortgage'], n_rows),\n",
        "        'Monthly_Debt': np.random.uniform(100, 3000, n_rows),\n",
        "        'Years_of_Credit_History': np.random.uniform(1, 30, n_rows),\n",
        "        'Months_Since_Last_Delinquent': np.random.randint(0, 60, n_rows),\n",
        "        'Number_of_Credit_Problems': np.random.randint(0, 5, n_rows),\n",
        "        'Bankruptcies': np.random.randint(0, 2, n_rows),\n",
        "        'IsFraud': np.random.choice([0, 1], n_rows, p=[0.98, 0.02]),\n",
        "    }\n",
        "\n",
        "\n",
        "\n",
        "    # Create a DataFrame from the generated data\n",
        "    df = pd.DataFrame(data)\n",
        "    return df\n"
      ]
    },
    {
      "cell_type": "code",
      "source": [
        "# Lets generate our own dataset\n",
        "our_own_data = generate_synthetic_data()\n",
        "our_own_data.head()"
      ],
      "metadata": {
        "colab": {
          "base_uri": "https://localhost:8080/",
          "height": 278
        },
        "id": "PJs0d8eayeY-",
        "outputId": "85b5f87c-7e87-47e5-d04e-d6f45759aa47"
      },
      "id": "PJs0d8eayeY-",
      "execution_count": null,
      "outputs": [
        {
          "output_type": "execute_result",
          "data": {
            "text/plain": [
              "   Cardholder_Name  Customer_ID  Age Transaction_Date  Transaction_Amount_AUD  \\\n",
              "0     Allison Hill            1   69       2023-11-25             3595.395079   \n",
              "1      Noah Rhodes            2   32       2023-07-05             2519.940095   \n",
              "2  Angie Henderson            3   89       2023-04-26             3544.119396   \n",
              "3    Daniel Wagner            4   78       2022-12-20             1245.468680   \n",
              "4  Cristian Santos            5   38       2023-02-08             1622.866705   \n",
              "\n",
              "                Merchant_Name  Credit_Score  Annual_Income  \\\n",
              "0              Curtis-Walters           336   56277.617527   \n",
              "1                Bennett-Cook           692  283266.964415   \n",
              "2  Campos, Durham and Stewart           590   56724.368831   \n",
              "3                 Parks Group           602  136047.876222   \n",
              "4    Evans, Taylor and Flores           700   71126.553095   \n",
              "\n",
              "  Years_In_Current_Job Home_Ownership  Monthly_Debt  Years_of_Credit_History  \\\n",
              "0              5 years            Own    721.008216                 9.664825   \n",
              "1              5 years       Mortgage   1792.166697                12.010090   \n",
              "2              4 years           Rent   2314.277177                18.059815   \n",
              "3              4 years            Own    124.018741                27.969520   \n",
              "4            10+ years           Rent   2486.156513                 3.828747   \n",
              "\n",
              "   Months_Since_Last_Delinquent  Number_of_Credit_Problems  Bankruptcies  \\\n",
              "0                            39                          3             0   \n",
              "1                            10                          0             1   \n",
              "2                            42                          0             1   \n",
              "3                            51                          1             0   \n",
              "4                            34                          1             1   \n",
              "\n",
              "   IsFraud  \n",
              "0        0  \n",
              "1        0  \n",
              "2        0  \n",
              "3        0  \n",
              "4        0  "
            ],
            "text/html": [
              "\n",
              "  <div id=\"df-d39fac0c-1330-485d-a05d-3881fc1a521e\" class=\"colab-df-container\">\n",
              "    <div>\n",
              "<style scoped>\n",
              "    .dataframe tbody tr th:only-of-type {\n",
              "        vertical-align: middle;\n",
              "    }\n",
              "\n",
              "    .dataframe tbody tr th {\n",
              "        vertical-align: top;\n",
              "    }\n",
              "\n",
              "    .dataframe thead th {\n",
              "        text-align: right;\n",
              "    }\n",
              "</style>\n",
              "<table border=\"1\" class=\"dataframe\">\n",
              "  <thead>\n",
              "    <tr style=\"text-align: right;\">\n",
              "      <th></th>\n",
              "      <th>Cardholder_Name</th>\n",
              "      <th>Customer_ID</th>\n",
              "      <th>Age</th>\n",
              "      <th>Transaction_Date</th>\n",
              "      <th>Transaction_Amount_AUD</th>\n",
              "      <th>Merchant_Name</th>\n",
              "      <th>Credit_Score</th>\n",
              "      <th>Annual_Income</th>\n",
              "      <th>Years_In_Current_Job</th>\n",
              "      <th>Home_Ownership</th>\n",
              "      <th>Monthly_Debt</th>\n",
              "      <th>Years_of_Credit_History</th>\n",
              "      <th>Months_Since_Last_Delinquent</th>\n",
              "      <th>Number_of_Credit_Problems</th>\n",
              "      <th>Bankruptcies</th>\n",
              "      <th>IsFraud</th>\n",
              "    </tr>\n",
              "  </thead>\n",
              "  <tbody>\n",
              "    <tr>\n",
              "      <th>0</th>\n",
              "      <td>Allison Hill</td>\n",
              "      <td>1</td>\n",
              "      <td>69</td>\n",
              "      <td>2023-11-25</td>\n",
              "      <td>3595.395079</td>\n",
              "      <td>Curtis-Walters</td>\n",
              "      <td>336</td>\n",
              "      <td>56277.617527</td>\n",
              "      <td>5 years</td>\n",
              "      <td>Own</td>\n",
              "      <td>721.008216</td>\n",
              "      <td>9.664825</td>\n",
              "      <td>39</td>\n",
              "      <td>3</td>\n",
              "      <td>0</td>\n",
              "      <td>0</td>\n",
              "    </tr>\n",
              "    <tr>\n",
              "      <th>1</th>\n",
              "      <td>Noah Rhodes</td>\n",
              "      <td>2</td>\n",
              "      <td>32</td>\n",
              "      <td>2023-07-05</td>\n",
              "      <td>2519.940095</td>\n",
              "      <td>Bennett-Cook</td>\n",
              "      <td>692</td>\n",
              "      <td>283266.964415</td>\n",
              "      <td>5 years</td>\n",
              "      <td>Mortgage</td>\n",
              "      <td>1792.166697</td>\n",
              "      <td>12.010090</td>\n",
              "      <td>10</td>\n",
              "      <td>0</td>\n",
              "      <td>1</td>\n",
              "      <td>0</td>\n",
              "    </tr>\n",
              "    <tr>\n",
              "      <th>2</th>\n",
              "      <td>Angie Henderson</td>\n",
              "      <td>3</td>\n",
              "      <td>89</td>\n",
              "      <td>2023-04-26</td>\n",
              "      <td>3544.119396</td>\n",
              "      <td>Campos, Durham and Stewart</td>\n",
              "      <td>590</td>\n",
              "      <td>56724.368831</td>\n",
              "      <td>4 years</td>\n",
              "      <td>Rent</td>\n",
              "      <td>2314.277177</td>\n",
              "      <td>18.059815</td>\n",
              "      <td>42</td>\n",
              "      <td>0</td>\n",
              "      <td>1</td>\n",
              "      <td>0</td>\n",
              "    </tr>\n",
              "    <tr>\n",
              "      <th>3</th>\n",
              "      <td>Daniel Wagner</td>\n",
              "      <td>4</td>\n",
              "      <td>78</td>\n",
              "      <td>2022-12-20</td>\n",
              "      <td>1245.468680</td>\n",
              "      <td>Parks Group</td>\n",
              "      <td>602</td>\n",
              "      <td>136047.876222</td>\n",
              "      <td>4 years</td>\n",
              "      <td>Own</td>\n",
              "      <td>124.018741</td>\n",
              "      <td>27.969520</td>\n",
              "      <td>51</td>\n",
              "      <td>1</td>\n",
              "      <td>0</td>\n",
              "      <td>0</td>\n",
              "    </tr>\n",
              "    <tr>\n",
              "      <th>4</th>\n",
              "      <td>Cristian Santos</td>\n",
              "      <td>5</td>\n",
              "      <td>38</td>\n",
              "      <td>2023-02-08</td>\n",
              "      <td>1622.866705</td>\n",
              "      <td>Evans, Taylor and Flores</td>\n",
              "      <td>700</td>\n",
              "      <td>71126.553095</td>\n",
              "      <td>10+ years</td>\n",
              "      <td>Rent</td>\n",
              "      <td>2486.156513</td>\n",
              "      <td>3.828747</td>\n",
              "      <td>34</td>\n",
              "      <td>1</td>\n",
              "      <td>1</td>\n",
              "      <td>0</td>\n",
              "    </tr>\n",
              "  </tbody>\n",
              "</table>\n",
              "</div>\n",
              "    <div class=\"colab-df-buttons\">\n",
              "\n",
              "  <div class=\"colab-df-container\">\n",
              "    <button class=\"colab-df-convert\" onclick=\"convertToInteractive('df-d39fac0c-1330-485d-a05d-3881fc1a521e')\"\n",
              "            title=\"Convert this dataframe to an interactive table.\"\n",
              "            style=\"display:none;\">\n",
              "\n",
              "  <svg xmlns=\"http://www.w3.org/2000/svg\" height=\"24px\" viewBox=\"0 -960 960 960\">\n",
              "    <path d=\"M120-120v-720h720v720H120Zm60-500h600v-160H180v160Zm220 220h160v-160H400v160Zm0 220h160v-160H400v160ZM180-400h160v-160H180v160Zm440 0h160v-160H620v160ZM180-180h160v-160H180v160Zm440 0h160v-160H620v160Z\"/>\n",
              "  </svg>\n",
              "    </button>\n",
              "\n",
              "  <style>\n",
              "    .colab-df-container {\n",
              "      display:flex;\n",
              "      gap: 12px;\n",
              "    }\n",
              "\n",
              "    .colab-df-convert {\n",
              "      background-color: #E8F0FE;\n",
              "      border: none;\n",
              "      border-radius: 50%;\n",
              "      cursor: pointer;\n",
              "      display: none;\n",
              "      fill: #1967D2;\n",
              "      height: 32px;\n",
              "      padding: 0 0 0 0;\n",
              "      width: 32px;\n",
              "    }\n",
              "\n",
              "    .colab-df-convert:hover {\n",
              "      background-color: #E2EBFA;\n",
              "      box-shadow: 0px 1px 2px rgba(60, 64, 67, 0.3), 0px 1px 3px 1px rgba(60, 64, 67, 0.15);\n",
              "      fill: #174EA6;\n",
              "    }\n",
              "\n",
              "    .colab-df-buttons div {\n",
              "      margin-bottom: 4px;\n",
              "    }\n",
              "\n",
              "    [theme=dark] .colab-df-convert {\n",
              "      background-color: #3B4455;\n",
              "      fill: #D2E3FC;\n",
              "    }\n",
              "\n",
              "    [theme=dark] .colab-df-convert:hover {\n",
              "      background-color: #434B5C;\n",
              "      box-shadow: 0px 1px 3px 1px rgba(0, 0, 0, 0.15);\n",
              "      filter: drop-shadow(0px 1px 2px rgba(0, 0, 0, 0.3));\n",
              "      fill: #FFFFFF;\n",
              "    }\n",
              "  </style>\n",
              "\n",
              "    <script>\n",
              "      const buttonEl =\n",
              "        document.querySelector('#df-d39fac0c-1330-485d-a05d-3881fc1a521e button.colab-df-convert');\n",
              "      buttonEl.style.display =\n",
              "        google.colab.kernel.accessAllowed ? 'block' : 'none';\n",
              "\n",
              "      async function convertToInteractive(key) {\n",
              "        const element = document.querySelector('#df-d39fac0c-1330-485d-a05d-3881fc1a521e');\n",
              "        const dataTable =\n",
              "          await google.colab.kernel.invokeFunction('convertToInteractive',\n",
              "                                                    [key], {});\n",
              "        if (!dataTable) return;\n",
              "\n",
              "        const docLinkHtml = 'Like what you see? Visit the ' +\n",
              "          '<a target=\"_blank\" href=https://colab.research.google.com/notebooks/data_table.ipynb>data table notebook</a>'\n",
              "          + ' to learn more about interactive tables.';\n",
              "        element.innerHTML = '';\n",
              "        dataTable['output_type'] = 'display_data';\n",
              "        await google.colab.output.renderOutput(dataTable, element);\n",
              "        const docLink = document.createElement('div');\n",
              "        docLink.innerHTML = docLinkHtml;\n",
              "        element.appendChild(docLink);\n",
              "      }\n",
              "    </script>\n",
              "  </div>\n",
              "\n",
              "\n",
              "<div id=\"df-b911d08e-91b1-4ad9-a61f-30154a3ef497\">\n",
              "  <button class=\"colab-df-quickchart\" onclick=\"quickchart('df-b911d08e-91b1-4ad9-a61f-30154a3ef497')\"\n",
              "            title=\"Suggest charts\"\n",
              "            style=\"display:none;\">\n",
              "\n",
              "<svg xmlns=\"http://www.w3.org/2000/svg\" height=\"24px\"viewBox=\"0 0 24 24\"\n",
              "     width=\"24px\">\n",
              "    <g>\n",
              "        <path d=\"M19 3H5c-1.1 0-2 .9-2 2v14c0 1.1.9 2 2 2h14c1.1 0 2-.9 2-2V5c0-1.1-.9-2-2-2zM9 17H7v-7h2v7zm4 0h-2V7h2v10zm4 0h-2v-4h2v4z\"/>\n",
              "    </g>\n",
              "</svg>\n",
              "  </button>\n",
              "\n",
              "<style>\n",
              "  .colab-df-quickchart {\n",
              "      --bg-color: #E8F0FE;\n",
              "      --fill-color: #1967D2;\n",
              "      --hover-bg-color: #E2EBFA;\n",
              "      --hover-fill-color: #174EA6;\n",
              "      --disabled-fill-color: #AAA;\n",
              "      --disabled-bg-color: #DDD;\n",
              "  }\n",
              "\n",
              "  [theme=dark] .colab-df-quickchart {\n",
              "      --bg-color: #3B4455;\n",
              "      --fill-color: #D2E3FC;\n",
              "      --hover-bg-color: #434B5C;\n",
              "      --hover-fill-color: #FFFFFF;\n",
              "      --disabled-bg-color: #3B4455;\n",
              "      --disabled-fill-color: #666;\n",
              "  }\n",
              "\n",
              "  .colab-df-quickchart {\n",
              "    background-color: var(--bg-color);\n",
              "    border: none;\n",
              "    border-radius: 50%;\n",
              "    cursor: pointer;\n",
              "    display: none;\n",
              "    fill: var(--fill-color);\n",
              "    height: 32px;\n",
              "    padding: 0;\n",
              "    width: 32px;\n",
              "  }\n",
              "\n",
              "  .colab-df-quickchart:hover {\n",
              "    background-color: var(--hover-bg-color);\n",
              "    box-shadow: 0 1px 2px rgba(60, 64, 67, 0.3), 0 1px 3px 1px rgba(60, 64, 67, 0.15);\n",
              "    fill: var(--button-hover-fill-color);\n",
              "  }\n",
              "\n",
              "  .colab-df-quickchart-complete:disabled,\n",
              "  .colab-df-quickchart-complete:disabled:hover {\n",
              "    background-color: var(--disabled-bg-color);\n",
              "    fill: var(--disabled-fill-color);\n",
              "    box-shadow: none;\n",
              "  }\n",
              "\n",
              "  .colab-df-spinner {\n",
              "    border: 2px solid var(--fill-color);\n",
              "    border-color: transparent;\n",
              "    border-bottom-color: var(--fill-color);\n",
              "    animation:\n",
              "      spin 1s steps(1) infinite;\n",
              "  }\n",
              "\n",
              "  @keyframes spin {\n",
              "    0% {\n",
              "      border-color: transparent;\n",
              "      border-bottom-color: var(--fill-color);\n",
              "      border-left-color: var(--fill-color);\n",
              "    }\n",
              "    20% {\n",
              "      border-color: transparent;\n",
              "      border-left-color: var(--fill-color);\n",
              "      border-top-color: var(--fill-color);\n",
              "    }\n",
              "    30% {\n",
              "      border-color: transparent;\n",
              "      border-left-color: var(--fill-color);\n",
              "      border-top-color: var(--fill-color);\n",
              "      border-right-color: var(--fill-color);\n",
              "    }\n",
              "    40% {\n",
              "      border-color: transparent;\n",
              "      border-right-color: var(--fill-color);\n",
              "      border-top-color: var(--fill-color);\n",
              "    }\n",
              "    60% {\n",
              "      border-color: transparent;\n",
              "      border-right-color: var(--fill-color);\n",
              "    }\n",
              "    80% {\n",
              "      border-color: transparent;\n",
              "      border-right-color: var(--fill-color);\n",
              "      border-bottom-color: var(--fill-color);\n",
              "    }\n",
              "    90% {\n",
              "      border-color: transparent;\n",
              "      border-bottom-color: var(--fill-color);\n",
              "    }\n",
              "  }\n",
              "</style>\n",
              "\n",
              "  <script>\n",
              "    async function quickchart(key) {\n",
              "      const quickchartButtonEl =\n",
              "        document.querySelector('#' + key + ' button');\n",
              "      quickchartButtonEl.disabled = true;  // To prevent multiple clicks.\n",
              "      quickchartButtonEl.classList.add('colab-df-spinner');\n",
              "      try {\n",
              "        const charts = await google.colab.kernel.invokeFunction(\n",
              "            'suggestCharts', [key], {});\n",
              "      } catch (error) {\n",
              "        console.error('Error during call to suggestCharts:', error);\n",
              "      }\n",
              "      quickchartButtonEl.classList.remove('colab-df-spinner');\n",
              "      quickchartButtonEl.classList.add('colab-df-quickchart-complete');\n",
              "    }\n",
              "    (() => {\n",
              "      let quickchartButtonEl =\n",
              "        document.querySelector('#df-b911d08e-91b1-4ad9-a61f-30154a3ef497 button');\n",
              "      quickchartButtonEl.style.display =\n",
              "        google.colab.kernel.accessAllowed ? 'block' : 'none';\n",
              "    })();\n",
              "  </script>\n",
              "</div>\n",
              "    </div>\n",
              "  </div>\n"
            ]
          },
          "metadata": {},
          "execution_count": 4
        }
      ]
    },
    {
      "cell_type": "markdown",
      "source": [
        "# Differential Privacy\n",
        "\n",
        "The PyDP package provides a Python API into Google's Differential Privacy library. The work below is based on the tutorial https://github.com/OpenMined/PyDP/blob/dev/examples/Tutorial_3-Titanic_demo/titanic_notebook.ipynb\n",
        "\n",
        "We will implement simple differential privacy on our own created synthetic dataset. Differential privacy is a concept in data privacy that aims to protect the privacy of individuals while allowing for meaningful analysis of data. The basic idea is to add noise to the data in a way that guarantees that the presence or absence of any single individual's data does not significantly affect the outcome of the analysis."
      ],
      "metadata": {
        "id": "Bfjn9czHLyfH"
      },
      "id": "Bfjn9czHLyfH"
    },
    {
      "cell_type": "code",
      "source": [
        "# Install the PyDP package\n",
        "! pip install python-dp"
      ],
      "metadata": {
        "colab": {
          "base_uri": "https://localhost:8080/"
        },
        "id": "xQsNDikiQ434",
        "outputId": "201e71b8-20fc-42bd-fd1d-00fa170fa69e"
      },
      "id": "xQsNDikiQ434",
      "execution_count": null,
      "outputs": [
        {
          "output_type": "stream",
          "name": "stdout",
          "text": [
            "Collecting python-dp\n",
            "  Downloading python_dp-1.1.4-cp310-cp310-manylinux1_x86_64.whl (3.8 MB)\n",
            "\u001b[2K     \u001b[90m━━━━━━━━━━━━━━━━━━━━━━━━━━━━━━━━━━━━━━━━\u001b[0m \u001b[32m3.8/3.8 MB\u001b[0m \u001b[31m5.1 MB/s\u001b[0m eta \u001b[36m0:00:00\u001b[0m\n",
            "\u001b[?25hInstalling collected packages: python-dp\n",
            "Successfully installed python-dp-1.1.4\n"
          ]
        }
      ]
    },
    {
      "cell_type": "code",
      "source": [
        "import pydp as dp  # by convention our package is to be imported as dp (for Differential Privacy!)\n",
        "from pydp.algorithms.laplacian import (\n",
        "    BoundedSum,\n",
        "    BoundedMean,\n",
        "    BoundedStandardDeviation,\n",
        "    Count,\n",
        "    Max,\n",
        "    Min,\n",
        "    Median,\n",
        ")\n",
        "import pandas as pd\n",
        "import matplotlib.pyplot as plt\n",
        "import seaborn as sns\n",
        "import statistics  # for calculating mean without applying differential privacy\n"
      ],
      "metadata": {
        "id": "Cn8eG6b3Q86W"
      },
      "id": "Cn8eG6b3Q86W",
      "execution_count": null,
      "outputs": []
    },
    {
      "cell_type": "markdown",
      "source": [
        "**What is the average annual income amount**"
      ],
      "metadata": {
        "id": "RYSn0DG8RQSO"
      },
      "id": "RYSn0DG8RQSO"
    },
    {
      "cell_type": "code",
      "source": [
        "# Calculates transaction mean without applying differential privacy\n",
        "def mean_income() -> float:\n",
        "    return statistics.mean(list(our_own_data['Annual_Income']))"
      ],
      "metadata": {
        "id": "dqw0j4FFRGuE"
      },
      "id": "dqw0j4FFRGuE",
      "execution_count": null,
      "outputs": []
    },
    {
      "cell_type": "code",
      "source": [
        "# Calculates transaction mean applying differential privacy\n",
        "def private_mean(privacy_budget: float) -> float:\n",
        "    x = BoundedMean(privacy_budget, lower_bound=0.1, upper_bound=200000, dtype=\"float\")\n",
        "    return x.quick_result(list(our_own_data['Annual_Income']))"
      ],
      "metadata": {
        "id": "4qEfNKxpR-JW"
      },
      "id": "4qEfNKxpR-JW",
      "execution_count": null,
      "outputs": []
    },
    {
      "cell_type": "code",
      "source": [
        "print(\"Mean: \", mean_income())\n",
        "print(\"Private Mean: \", private_mean(0.8))"
      ],
      "metadata": {
        "colab": {
          "base_uri": "https://localhost:8080/"
        },
        "id": "33OVLfE8Sxli",
        "outputId": "e3be49a5-1ea5-4467-8c7f-f234422709a1"
      },
      "id": "33OVLfE8Sxli",
      "execution_count": null,
      "outputs": [
        {
          "output_type": "stream",
          "name": "stdout",
          "text": [
            "Mean:  184681.6001515841\n",
            "Private Mean:  158244.1304992842\n"
          ]
        }
      ]
    },
    {
      "cell_type": "markdown",
      "source": [
        "**What is the age of the youngest customer**"
      ],
      "metadata": {
        "id": "Mcg3IYtlTGt2"
      },
      "id": "Mcg3IYtlTGt2"
    },
    {
      "cell_type": "code",
      "source": [
        "# Function to return the minimum of the customers age without appyling differential privacy.\n",
        "def min_age() -> int:\n",
        "    return our_own_data.min()[2]"
      ],
      "metadata": {
        "id": "pq_kI72sTFXe"
      },
      "id": "pq_kI72sTFXe",
      "execution_count": null,
      "outputs": []
    },
    {
      "cell_type": "code",
      "source": [
        "# Function to return the minimum of the customers age appyling differential privacy.\n",
        "def private_min(privacy_budget: float) -> float:\n",
        "    # 0 and 150 are the upper and lower limits for the search bound.\n",
        "    x = Min(privacy_budget, lower_bound=0.1, upper_bound=90, dtype=\"float\")\n",
        "    return x.quick_result(list(our_own_data[\"Age\"]))"
      ],
      "metadata": {
        "id": "ZOqlTbKdTgs5"
      },
      "id": "ZOqlTbKdTgs5",
      "execution_count": null,
      "outputs": []
    },
    {
      "cell_type": "code",
      "source": [
        "print(\"Min:\\t\" + str(min_age()))\n",
        "print(\"Private Min:\\t\" + str(private_min(1)))"
      ],
      "metadata": {
        "colab": {
          "base_uri": "https://localhost:8080/"
        },
        "id": "vSE43I7mTofb",
        "outputId": "a31d2e92-109a-4ad7-d75b-10f2c5c7d12f"
      },
      "id": "vSE43I7mTofb",
      "execution_count": null,
      "outputs": [
        {
          "output_type": "stream",
          "name": "stdout",
          "text": [
            "Min:\t18\n",
            "Private Min:\t17.99974782386804\n"
          ]
        }
      ]
    },
    {
      "cell_type": "markdown",
      "source": [
        "### How many customers are younger than a certain age?"
      ],
      "metadata": {
        "id": "_jlZ1syRVCen"
      },
      "id": "_jlZ1syRVCen"
    },
    {
      "cell_type": "code",
      "source": [
        "# Calculates number of customers whose age is less than \"limit\" age without applying differential privacy.\n",
        "def count_below(limit: int) -> int:\n",
        "    return our_own_data[our_own_data.Age < limit].shape[0]\n",
        "\n",
        "# Calculates number of customers whose age is less than \"limit\" age applying differential privacy.\n",
        "def private_count_below(privacy_budget: float, limit: int) -> int:\n",
        "    x = Count(privacy_budget, dtype=\"float\")\n",
        "    # Reset the index before applying boolean indexing\n",
        "    return x.quick_result(list(our_own_data[our_own_data.Age < limit].reset_index(drop=True)[\"Age\"]))\n",
        "\n",
        "# Example usage:\n",
        "print(\"Below 21:\\t\" + str(count_below(50)))\n",
        "print(\"Private count below:\\t\" + str(private_count_below(1, 50)))\n"
      ],
      "metadata": {
        "colab": {
          "base_uri": "https://localhost:8080/"
        },
        "id": "rMBCXNQaWNW8",
        "outputId": "258faa5f-c5e2-4b45-ae40-8382d1a5bc82"
      },
      "id": "rMBCXNQaWNW8",
      "execution_count": null,
      "outputs": [
        {
          "output_type": "stream",
          "name": "stdout",
          "text": [
            "Below 21:\t3917\n",
            "Private count below:\t3918\n"
          ]
        }
      ]
    },
    {
      "cell_type": "markdown",
      "source": [
        "# Implementing Differential Privacy on Logistic Regression for Fraud Detection\n",
        "\n",
        "We will utilise logistic regression on a synthetic dataset to predict a binary outcome, likely associated with fraud detection. Logistic regression is applied conventionally without privacy measures, and another where we integrate the IBM diffprivlib Python library into logistic regression process. The former involves training the model on the original data, while the latter incorporates privacy safeguards using the IBM diffprivlib library, mitigating the risk of revealing individual-level information. There is a trade-off between model accuracy and individual privacy protection."
      ],
      "metadata": {
        "id": "jY5Sr2Txdf_s"
      },
      "id": "jY5Sr2Txdf_s"
    },
    {
      "cell_type": "code",
      "source": [
        "#import important libraries\n",
        "from sklearn.metrics import classification_report\n",
        "from sklearn.metrics import roc_auc_score as roc\n",
        "from sklearn.model_selection import train_test_split as tts\n",
        "from sklearn.preprocessing import StandardScaler\n",
        "from sklearn.linear_model import LogisticRegression"
      ],
      "metadata": {
        "id": "hWHEKgW9gpHG"
      },
      "id": "hWHEKgW9gpHG",
      "execution_count": null,
      "outputs": []
    },
    {
      "cell_type": "code",
      "source": [
        "#visualize the target class 'IsFraud'\n",
        "sns.countplot(x='IsFraud', data=our_own_data)"
      ],
      "metadata": {
        "colab": {
          "base_uri": "https://localhost:8080/",
          "height": 467
        },
        "id": "5tXBfDuWgw0v",
        "outputId": "45a4b385-db80-42f9-adc8-10a8229e4ff1"
      },
      "id": "5tXBfDuWgw0v",
      "execution_count": null,
      "outputs": [
        {
          "output_type": "execute_result",
          "data": {
            "text/plain": [
              "<Axes: xlabel='IsFraud', ylabel='count'>"
            ]
          },
          "metadata": {},
          "execution_count": 26
        },
        {
          "output_type": "display_data",
          "data": {
            "text/plain": [
              "<Figure size 640x480 with 1 Axes>"
            ],
            "image/png": "[encoded data removed]"
          },
          "metadata": {}
        }
      ]
    },
    {
      "cell_type": "code",
      "source": [
        "#seperating positive and negative classes\n",
        "positiveDataset = our_own_data.loc[our_own_data['IsFraud'] == 1]\n",
        "negativeDataset = our_own_data.loc[our_own_data['IsFraud'] == 0]"
      ],
      "metadata": {
        "id": "N-x_A15shRQA"
      },
      "id": "N-x_A15shRQA",
      "execution_count": null,
      "outputs": []
    },
    {
      "cell_type": "code",
      "source": [
        "#creating training and testing set with negative class split 1:1 and positive class split 4:1, also keeping random_state constant so that all splits are same\n",
        "positiveTrain, positiveTest = tts(positiveDataset, test_size=0.2, random_state=21)\n",
        "negativeTrain, negativeTest = tts(negativeDataset, test_size=0.5)\n",
        "trainDataset = positiveTrain.append(negativeTrain)\n",
        "testDataset = positiveTest.append(negativeTest)"
      ],
      "metadata": {
        "colab": {
          "base_uri": "https://localhost:8080/"
        },
        "id": "JjFzRjZyhoM2",
        "outputId": "91ccefb7-acda-4d58-f2e4-060a98eab474"
      },
      "id": "JjFzRjZyhoM2",
      "execution_count": null,
      "outputs": [
        {
          "output_type": "stream",
          "name": "stderr",
          "text": [
            "<ipython-input-28-6b631cdaf369>:4: FutureWarning: The frame.append method is deprecated and will be removed from pandas in a future version. Use pandas.concat instead.\n",
            "  trainDataset = positiveTrain.append(negativeTrain)\n",
            "<ipython-input-28-6b631cdaf369>:5: FutureWarning: The frame.append method is deprecated and will be removed from pandas in a future version. Use pandas.concat instead.\n",
            "  testDataset = positiveTest.append(negativeTest)\n"
          ]
        }
      ]
    },
    {
      "cell_type": "code",
      "source": [
        "our_own_data.columns"
      ],
      "metadata": {
        "colab": {
          "base_uri": "https://localhost:8080/"
        },
        "id": "7DOLJkkecekW",
        "outputId": "e07ce90c-a7db-455e-cba6-6609dd977391"
      },
      "id": "7DOLJkkecekW",
      "execution_count": null,
      "outputs": [
        {
          "output_type": "execute_result",
          "data": {
            "text/plain": [
              "Index(['Cardholder_Name', 'Customer_ID', 'Age', 'Transaction_Date',\n",
              "       'Transaction_Amount_AUD', 'Merchant_Name', 'Credit_Score',\n",
              "       'Annual_Income', 'Years_In_Current_Job', 'Home_Ownership',\n",
              "       'Monthly_Debt', 'Years_of_Credit_History',\n",
              "       'Months_Since_Last_Delinquent', 'Number_of_Credit_Problems',\n",
              "       'Bankruptcies', 'IsFraud'],\n",
              "      dtype='object')"
            ]
          },
          "metadata": {},
          "execution_count": 31
        }
      ]
    },
    {
      "cell_type": "code",
      "source": [
        "from sklearn.model_selection import train_test_split\n",
        "from sklearn.linear_model import LogisticRegression\n",
        "\n",
        "# Assuming 'our_own_data' is your DataFrame\n",
        "# Replace 'features_column_names' and 'target_column_name' with the actual column names in your dataset\n",
        "\n",
        "features_column_names = ['Annual_Income', 'Transaction_Amount_AUD', 'Credit_Score']  # Replace with your actual feature column names\n",
        "target_column_name = 'IsFraud'    # Replace with your actual target column name\n",
        "\n",
        "X = our_own_data[features_column_names]\n",
        "y = our_own_data[target_column_name]\n",
        "\n",
        "# Split the dataset into training and testing sets\n",
        "xTrain, xTest, yTrain, yTest = train_test_split(X, y, test_size=0.2, random_state=42)"
      ],
      "metadata": {
        "id": "FP7rKy-Jb1-u"
      },
      "id": "FP7rKy-Jb1-u",
      "execution_count": null,
      "outputs": []
    },
    {
      "cell_type": "markdown",
      "source": [
        "# Logistic Regression with Differential Privacy"
      ],
      "metadata": {
        "id": "pFuS7zUFsWR-"
      },
      "id": "pFuS7zUFsWR-"
    },
    {
      "cell_type": "code",
      "source": [
        "#We will fit the training dataset using logistic Regression\n",
        "clf = LogisticRegression(solver=\"lbfgs\")\n",
        "clf.fit(xTrain, yTrain)\n"
      ],
      "metadata": {
        "colab": {
          "base_uri": "https://localhost:8080/",
          "height": 75
        },
        "id": "y7IIZkTMmBii",
        "outputId": "c3e14b0c-3a7f-42a7-a8b1-e2bf5bc1fe15"
      },
      "id": "y7IIZkTMmBii",
      "execution_count": null,
      "outputs": [
        {
          "output_type": "execute_result",
          "data": {
            "text/plain": [
              "LogisticRegression()"
            ],
            "text/html": [
              "<style>#sk-container-id-1 {color: black;background-color: white;}#sk-container-id-1 pre{padding: 0;}#sk-container-id-1 div.sk-toggleable {background-color: white;}#sk-container-id-1 label.sk-toggleable__label {cursor: pointer;display: block;width: 100%;margin-bottom: 0;padding: 0.3em;box-sizing: border-box;text-align: center;}#sk-container-id-1 label.sk-toggleable__label-arrow:before {content: \"▸\";float: left;margin-right: 0.25em;color: #696969;}#sk-container-id-1 label.sk-toggleable__label-arrow:hover:before {color: black;}#sk-container-id-1 div.sk-estimator:hover label.sk-toggleable__label-arrow:before {color: black;}#sk-container-id-1 div.sk-toggleable__content {max-height: 0;max-width: 0;overflow: hidden;text-align: left;background-color: #f0f8ff;}#sk-container-id-1 div.sk-toggleable__content pre {margin: 0.2em;color: black;border-radius: 0.25em;background-color: #f0f8ff;}#sk-container-id-1 input.sk-toggleable__control:checked~div.sk-toggleable__content {max-height: 200px;max-width: 100%;overflow: auto;}#sk-container-id-1 input.sk-toggleable__control:checked~label.sk-toggleable__label-arrow:before {content: \"▾\";}#sk-container-id-1 div.sk-estimator input.sk-toggleable__control:checked~label.sk-toggleable__label {background-color: #d4ebff;}#sk-container-id-1 div.sk-label input.sk-toggleable__control:checked~label.sk-toggleable__label {background-color: #d4ebff;}#sk-container-id-1 input.sk-hidden--visually {border: 0;clip: rect(1px 1px 1px 1px);clip: rect(1px, 1px, 1px, 1px);height: 1px;margin: -1px;overflow: hidden;padding: 0;position: absolute;width: 1px;}#sk-container-id-1 div.sk-estimator {font-family: monospace;background-color: #f0f8ff;border: 1px dotted black;border-radius: 0.25em;box-sizing: border-box;margin-bottom: 0.5em;}#sk-container-id-1 div.sk-estimator:hover {background-color: #d4ebff;}#sk-container-id-1 div.sk-parallel-item::after {content: \"\";width: 100%;border-bottom: 1px solid gray;flex-grow: 1;}#sk-container-id-1 div.sk-label:hover label.sk-toggleable__label {background-color: #d4ebff;}#sk-container-id-1 div.sk-serial::before {content: \"\";position: absolute;border-left: 1px solid gray;box-sizing: border-box;top: 0;bottom: 0;left: 50%;z-index: 0;}#sk-container-id-1 div.sk-serial {display: flex;flex-direction: column;align-items: center;background-color: white;padding-right: 0.2em;padding-left: 0.2em;position: relative;}#sk-container-id-1 div.sk-item {position: relative;z-index: 1;}#sk-container-id-1 div.sk-parallel {display: flex;align-items: stretch;justify-content: center;background-color: white;position: relative;}#sk-container-id-1 div.sk-item::before, #sk-container-id-1 div.sk-parallel-item::before {content: \"\";position: absolute;border-left: 1px solid gray;box-sizing: border-box;top: 0;bottom: 0;left: 50%;z-index: -1;}#sk-container-id-1 div.sk-parallel-item {display: flex;flex-direction: column;z-index: 1;position: relative;background-color: white;}#sk-container-id-1 div.sk-parallel-item:first-child::after {align-self: flex-end;width: 50%;}#sk-container-id-1 div.sk-parallel-item:last-child::after {align-self: flex-start;width: 50%;}#sk-container-id-1 div.sk-parallel-item:only-child::after {width: 0;}#sk-container-id-1 div.sk-dashed-wrapped {border: 1px dashed gray;margin: 0 0.4em 0.5em 0.4em;box-sizing: border-box;padding-bottom: 0.4em;background-color: white;}#sk-container-id-1 div.sk-label label {font-family: monospace;font-weight: bold;display: inline-block;line-height: 1.2em;}#sk-container-id-1 div.sk-label-container {text-align: center;}#sk-container-id-1 div.sk-container {/* jupyter's `normalize.less` sets `[hidden] { display: none; }` but bootstrap.min.css set `[hidden] { display: none !important; }` so we also need the `!important` here to be able to override the default hidden behavior on the sphinx rendered scikit-learn.org. See: https://github.com/scikit-learn/scikit-learn/issues/21755 */display: inline-block !important;position: relative;}#sk-container-id-1 div.sk-text-repr-fallback {display: none;}</style><div id=\"sk-container-id-1\" class=\"sk-top-container\"><div class=\"sk-text-repr-fallback\"><pre>LogisticRegression()</pre><b>In a Jupyter environment, please rerun this cell to show the HTML representation or trust the notebook. <br />On GitHub, the HTML representation is unable to render, please try loading this page with nbviewer.org.</b></div><div class=\"sk-container\" hidden><div class=\"sk-item\"><div class=\"sk-estimator sk-toggleable\"><input class=\"sk-toggleable__control sk-hidden--visually\" id=\"sk-estimator-id-1\" type=\"checkbox\" checked><label for=\"sk-estimator-id-1\" class=\"sk-toggleable__label sk-toggleable__label-arrow\">LogisticRegression</label><div class=\"sk-toggleable__content\"><pre>LogisticRegression()</pre></div></div></div></div></div>"
            ]
          },
          "metadata": {},
          "execution_count": 37
        }
      ]
    },
    {
      "cell_type": "code",
      "source": [
        "baseline = clf.score(xTest, yTest)\n",
        "print(\"Non-private test accuracy: %.2f%%\" % (baseline * 100))"
      ],
      "metadata": {
        "colab": {
          "base_uri": "https://localhost:8080/"
        },
        "id": "A2OtUfXjm7dv",
        "outputId": "37c13e55-9bc7-4967-a05d-4d3c7b71b8af"
      },
      "id": "A2OtUfXjm7dv",
      "execution_count": null,
      "outputs": [
        {
          "output_type": "stream",
          "name": "stdout",
          "text": [
            "Non-private test accuracy: 97.70%\n"
          ]
        }
      ]
    },
    {
      "cell_type": "code",
      "source": [
        "import diffprivlib.models as dp\n",
        "dp_clf = dp.LogisticRegression(random_state=0)\n",
        "dp_clf.fit(xTrain, yTrain)"
      ],
      "metadata": {
        "colab": {
          "base_uri": "https://localhost:8080/",
          "height": 148
        },
        "id": "4wCrZ-cBoSpr",
        "outputId": "671d45b0-ad42-4bf9-a382-2d3cd2014c29"
      },
      "id": "4wCrZ-cBoSpr",
      "execution_count": null,
      "outputs": [
        {
          "output_type": "stream",
          "name": "stderr",
          "text": [
            "/usr/local/lib/python3.10/dist-packages/diffprivlib/models/logistic_regression.py:239: PrivacyLeakWarning: Data norm has not been specified and will be calculated on the data provided.  This will result in additional privacy leakage. To ensure differential privacy and no additional privacy leakage, specify `data_norm` at initialisation.\n",
            "  warnings.warn(\"Data norm has not been specified and will be calculated on the data provided.  This will \"\n"
          ]
        },
        {
          "output_type": "execute_result",
          "data": {
            "text/plain": [
              "LogisticRegression(accountant=BudgetAccountant(spent_budget=[(1.0, 0)]),\n",
              "                   data_norm=320014.2308676398, random_state=0)"
            ],
            "text/html": [
              "<style>#sk-container-id-2 {color: black;background-color: white;}#sk-container-id-2 pre{padding: 0;}#sk-container-id-2 div.sk-toggleable {background-color: white;}#sk-container-id-2 label.sk-toggleable__label {cursor: pointer;display: block;width: 100%;margin-bottom: 0;padding: 0.3em;box-sizing: border-box;text-align: center;}#sk-container-id-2 label.sk-toggleable__label-arrow:before {content: \"▸\";float: left;margin-right: 0.25em;color: #696969;}#sk-container-id-2 label.sk-toggleable__label-arrow:hover:before {color: black;}#sk-container-id-2 div.sk-estimator:hover label.sk-toggleable__label-arrow:before {color: black;}#sk-container-id-2 div.sk-toggleable__content {max-height: 0;max-width: 0;overflow: hidden;text-align: left;background-color: #f0f8ff;}#sk-container-id-2 div.sk-toggleable__content pre {margin: 0.2em;color: black;border-radius: 0.25em;background-color: #f0f8ff;}#sk-container-id-2 input.sk-toggleable__control:checked~div.sk-toggleable__content {max-height: 200px;max-width: 100%;overflow: auto;}#sk-container-id-2 input.sk-toggleable__control:checked~label.sk-toggleable__label-arrow:before {content: \"▾\";}#sk-container-id-2 div.sk-estimator input.sk-toggleable__control:checked~label.sk-toggleable__label {background-color: #d4ebff;}#sk-container-id-2 div.sk-label input.sk-toggleable__control:checked~label.sk-toggleable__label {background-color: #d4ebff;}#sk-container-id-2 input.sk-hidden--visually {border: 0;clip: rect(1px 1px 1px 1px);clip: rect(1px, 1px, 1px, 1px);height: 1px;margin: -1px;overflow: hidden;padding: 0;position: absolute;width: 1px;}#sk-container-id-2 div.sk-estimator {font-family: monospace;background-color: #f0f8ff;border: 1px dotted black;border-radius: 0.25em;box-sizing: border-box;margin-bottom: 0.5em;}#sk-container-id-2 div.sk-estimator:hover {background-color: #d4ebff;}#sk-container-id-2 div.sk-parallel-item::after {content: \"\";width: 100%;border-bottom: 1px solid gray;flex-grow: 1;}#sk-container-id-2 div.sk-label:hover label.sk-toggleable__label {background-color: #d4ebff;}#sk-container-id-2 div.sk-serial::before {content: \"\";position: absolute;border-left: 1px solid gray;box-sizing: border-box;top: 0;bottom: 0;left: 50%;z-index: 0;}#sk-container-id-2 div.sk-serial {display: flex;flex-direction: column;align-items: center;background-color: white;padding-right: 0.2em;padding-left: 0.2em;position: relative;}#sk-container-id-2 div.sk-item {position: relative;z-index: 1;}#sk-container-id-2 div.sk-parallel {display: flex;align-items: stretch;justify-content: center;background-color: white;position: relative;}#sk-container-id-2 div.sk-item::before, #sk-container-id-2 div.sk-parallel-item::before {content: \"\";position: absolute;border-left: 1px solid gray;box-sizing: border-box;top: 0;bottom: 0;left: 50%;z-index: -1;}#sk-container-id-2 div.sk-parallel-item {display: flex;flex-direction: column;z-index: 1;position: relative;background-color: white;}#sk-container-id-2 div.sk-parallel-item:first-child::after {align-self: flex-end;width: 50%;}#sk-container-id-2 div.sk-parallel-item:last-child::after {align-self: flex-start;width: 50%;}#sk-container-id-2 div.sk-parallel-item:only-child::after {width: 0;}#sk-container-id-2 div.sk-dashed-wrapped {border: 1px dashed gray;margin: 0 0.4em 0.5em 0.4em;box-sizing: border-box;padding-bottom: 0.4em;background-color: white;}#sk-container-id-2 div.sk-label label {font-family: monospace;font-weight: bold;display: inline-block;line-height: 1.2em;}#sk-container-id-2 div.sk-label-container {text-align: center;}#sk-container-id-2 div.sk-container {/* jupyter's `normalize.less` sets `[hidden] { display: none; }` but bootstrap.min.css set `[hidden] { display: none !important; }` so we also need the `!important` here to be able to override the default hidden behavior on the sphinx rendered scikit-learn.org. See: https://github.com/scikit-learn/scikit-learn/issues/21755 */display: inline-block !important;position: relative;}#sk-container-id-2 div.sk-text-repr-fallback {display: none;}</style><div id=\"sk-container-id-2\" class=\"sk-top-container\"><div class=\"sk-text-repr-fallback\"><pre>LogisticRegression(accountant=BudgetAccountant(spent_budget=[(1.0, 0)]),\n",
              "                   data_norm=320014.2308676398, random_state=0)</pre><b>In a Jupyter environment, please rerun this cell to show the HTML representation or trust the notebook. <br />On GitHub, the HTML representation is unable to render, please try loading this page with nbviewer.org.</b></div><div class=\"sk-container\" hidden><div class=\"sk-item\"><div class=\"sk-estimator sk-toggleable\"><input class=\"sk-toggleable__control sk-hidden--visually\" id=\"sk-estimator-id-2\" type=\"checkbox\" checked><label for=\"sk-estimator-id-2\" class=\"sk-toggleable__label sk-toggleable__label-arrow\">LogisticRegression</label><div class=\"sk-toggleable__content\"><pre>LogisticRegression(accountant=BudgetAccountant(spent_budget=[(1.0, 0)]),\n",
              "                   data_norm=320014.2308676398, random_state=0)</pre></div></div></div></div></div>"
            ]
          },
          "metadata": {},
          "execution_count": 39
        }
      ]
    },
    {
      "cell_type": "code",
      "source": [
        "print(\"Differentially private test accuracy (epsilon=%.2f): %.2f%%\" %\n",
        "     (dp_clf.epsilon, dp_clf.score(xTest, yTest) * 100))"
      ],
      "metadata": {
        "colab": {
          "base_uri": "https://localhost:8080/"
        },
        "id": "QJi2JjU-o3Xf",
        "outputId": "e219f991-a105-4b7a-f77f-c5f580adca13"
      },
      "id": "QJi2JjU-o3Xf",
      "execution_count": null,
      "outputs": [
        {
          "output_type": "stream",
          "name": "stdout",
          "text": [
            "Differentially private test accuracy (epsilon=1.00): 96.50%\n"
          ]
        }
      ]
    },
    {
      "cell_type": "code",
      "source": [
        "from diffprivlib.utils import check_random_state\n",
        "\n",
        "accuracy = []\n",
        "epsilons = np.logspace(-3, 1, 500)\n",
        "random_state = check_random_state(42)\n",
        "\n",
        "for eps in epsilons:\n",
        "    dp_clf = dp.LogisticRegression(epsilon=eps, data_norm=100, random_state=random_state)\n",
        "    dp_clf.fit(xTrain, yTrain)\n",
        "    accuracy.append(dp_clf.score(xTest, yTest))"
      ],
      "metadata": {
        "id": "-0I0xWAOpZWl"
      },
      "id": "-0I0xWAOpZWl",
      "execution_count": null,
      "outputs": []
    },
    {
      "cell_type": "code",
      "source": [
        "import pickle\n",
        "\n",
        "pickle.dump((epsilons, baseline, accuracy), open(\"lr_accuracy_500.p\", \"wb\" ) )"
      ],
      "metadata": {
        "id": "lx0Z80HUpoLS"
      },
      "id": "lx0Z80HUpoLS",
      "execution_count": null,
      "outputs": []
    },
    {
      "cell_type": "code",
      "source": [
        "import matplotlib.pyplot as plt\n",
        "import pickle\n",
        "\n",
        "epsilons, baseline, accuracy = pickle.load(open(\"lr_accuracy_500.p\", \"rb\"))\n",
        "\n",
        "plt.semilogx(epsilons, accuracy, label=\"Differentially private\")\n",
        "plt.plot(epsilons, np.ones_like(epsilons) * baseline, dashes=[2,2], label=\"Non-private\")\n",
        "plt.title(\"Differentially private logistic regression accuracy\")\n",
        "plt.xlabel(\"epsilon\")\n",
        "plt.ylabel(\"Accuracy\")\n",
        "plt.ylim(0, 1)\n",
        "plt.xlim(epsilons[0], epsilons[-1])\n",
        "plt.legend(loc=3)\n",
        "plt.show()"
      ],
      "metadata": {
        "id": "GJZNJm-Gppez"
      },
      "id": "GJZNJm-Gppez",
      "execution_count": null,
      "outputs": []
    },
    {
      "cell_type": "markdown",
      "source": [
        "# Implementing MPC and Homomorphic Encryption (HE) using Paillier Cryptosystem Python on Our Own Synthethic dataset\n",
        "\n",
        "Implementing Multi-Party Computation (MPC) with Python using a synthetic dataset involves creating a protocol that allows different parties to collectively compute a function over their inputs while keeping those inputs private. Here, I'll provide a simplified example using the phe library. In this simple example we will reduce the number of rows to only six because it computationally intensive."
      ],
      "metadata": {
        "id": "-W9v1odK7AdU"
      },
      "id": "-W9v1odK7AdU"
    },
    {
      "cell_type": "code",
      "source": [
        "#The synthetic dataset with 6 rows.\n",
        "data = our_own_data.head(6)\n",
        "data"
      ],
      "metadata": {
        "colab": {
          "base_uri": "https://localhost:8080/",
          "height": 327
        },
        "id": "y887nrLX9tj5",
        "outputId": "efd0955a-6757-47fb-e908-78812ea2d38e"
      },
      "id": "y887nrLX9tj5",
      "execution_count": null,
      "outputs": [
        {
          "output_type": "execute_result",
          "data": {
            "text/plain": [
              "   Cardholder_Name  Customer_ID  Age Transaction_Date  Transaction_Amount_AUD  \\\n",
              "0     Allison Hill            1   69       2023-11-25             3595.395079   \n",
              "1      Noah Rhodes            2   32       2023-07-05             2519.940095   \n",
              "2  Angie Henderson            3   89       2023-04-26             3544.119396   \n",
              "3    Daniel Wagner            4   78       2022-12-20             1245.468680   \n",
              "4  Cristian Santos            5   38       2023-02-08             1622.866705   \n",
              "5  Connie Lawrence            6   92       2023-02-12             1671.742471   \n",
              "\n",
              "                Merchant_Name  Credit_Score  Annual_Income  \\\n",
              "0              Curtis-Walters           336   56277.617527   \n",
              "1                Bennett-Cook           692  283266.964415   \n",
              "2  Campos, Durham and Stewart           590   56724.368831   \n",
              "3                 Parks Group           602  136047.876222   \n",
              "4    Evans, Taylor and Flores           700   71126.553095   \n",
              "5    Rice, Mendez and Leonard           643  260979.600066   \n",
              "\n",
              "  Years_In_Current_Job Home_Ownership  Monthly_Debt  Years_of_Credit_History  \\\n",
              "0              5 years            Own    721.008216                 9.664825   \n",
              "1              5 years       Mortgage   1792.166697                12.010090   \n",
              "2              4 years           Rent   2314.277177                18.059815   \n",
              "3              4 years            Own    124.018741                27.969520   \n",
              "4            10+ years           Rent   2486.156513                 3.828747   \n",
              "5              7 years           Rent   1447.911956                27.664844   \n",
              "\n",
              "   Months_Since_Last_Delinquent  Number_of_Credit_Problems  Bankruptcies  \\\n",
              "0                            39                          3             0   \n",
              "1                            10                          0             1   \n",
              "2                            42                          0             1   \n",
              "3                            51                          1             0   \n",
              "4                            34                          1             1   \n",
              "5                            10                          4             1   \n",
              "\n",
              "   IsFraud  \n",
              "0        0  \n",
              "1        0  \n",
              "2        0  \n",
              "3        0  \n",
              "4        0  \n",
              "5        0  "
            ],
            "text/html": [
              "\n",
              "  <div id=\"df-f5e346eb-2224-47f1-8e29-de242f06ef83\" class=\"colab-df-container\">\n",
              "    <div>\n",
              "<style scoped>\n",
              "    .dataframe tbody tr th:only-of-type {\n",
              "        vertical-align: middle;\n",
              "    }\n",
              "\n",
              "    .dataframe tbody tr th {\n",
              "        vertical-align: top;\n",
              "    }\n",
              "\n",
              "    .dataframe thead th {\n",
              "        text-align: right;\n",
              "    }\n",
              "</style>\n",
              "<table border=\"1\" class=\"dataframe\">\n",
              "  <thead>\n",
              "    <tr style=\"text-align: right;\">\n",
              "      <th></th>\n",
              "      <th>Cardholder_Name</th>\n",
              "      <th>Customer_ID</th>\n",
              "      <th>Age</th>\n",
              "      <th>Transaction_Date</th>\n",
              "      <th>Transaction_Amount_AUD</th>\n",
              "      <th>Merchant_Name</th>\n",
              "      <th>Credit_Score</th>\n",
              "      <th>Annual_Income</th>\n",
              "      <th>Years_In_Current_Job</th>\n",
              "      <th>Home_Ownership</th>\n",
              "      <th>Monthly_Debt</th>\n",
              "      <th>Years_of_Credit_History</th>\n",
              "      <th>Months_Since_Last_Delinquent</th>\n",
              "      <th>Number_of_Credit_Problems</th>\n",
              "      <th>Bankruptcies</th>\n",
              "      <th>IsFraud</th>\n",
              "    </tr>\n",
              "  </thead>\n",
              "  <tbody>\n",
              "    <tr>\n",
              "      <th>0</th>\n",
              "      <td>Allison Hill</td>\n",
              "      <td>1</td>\n",
              "      <td>69</td>\n",
              "      <td>2023-11-25</td>\n",
              "      <td>3595.395079</td>\n",
              "      <td>Curtis-Walters</td>\n",
              "      <td>336</td>\n",
              "      <td>56277.617527</td>\n",
              "      <td>5 years</td>\n",
              "      <td>Own</td>\n",
              "      <td>721.008216</td>\n",
              "      <td>9.664825</td>\n",
              "      <td>39</td>\n",
              "      <td>3</td>\n",
              "      <td>0</td>\n",
              "      <td>0</td>\n",
              "    </tr>\n",
              "    <tr>\n",
              "      <th>1</th>\n",
              "      <td>Noah Rhodes</td>\n",
              "      <td>2</td>\n",
              "      <td>32</td>\n",
              "      <td>2023-07-05</td>\n",
              "      <td>2519.940095</td>\n",
              "      <td>Bennett-Cook</td>\n",
              "      <td>692</td>\n",
              "      <td>283266.964415</td>\n",
              "      <td>5 years</td>\n",
              "      <td>Mortgage</td>\n",
              "      <td>1792.166697</td>\n",
              "      <td>12.010090</td>\n",
              "      <td>10</td>\n",
              "      <td>0</td>\n",
              "      <td>1</td>\n",
              "      <td>0</td>\n",
              "    </tr>\n",
              "    <tr>\n",
              "      <th>2</th>\n",
              "      <td>Angie Henderson</td>\n",
              "      <td>3</td>\n",
              "      <td>89</td>\n",
              "      <td>2023-04-26</td>\n",
              "      <td>3544.119396</td>\n",
              "      <td>Campos, Durham and Stewart</td>\n",
              "      <td>590</td>\n",
              "      <td>56724.368831</td>\n",
              "      <td>4 years</td>\n",
              "      <td>Rent</td>\n",
              "      <td>2314.277177</td>\n",
              "      <td>18.059815</td>\n",
              "      <td>42</td>\n",
              "      <td>0</td>\n",
              "      <td>1</td>\n",
              "      <td>0</td>\n",
              "    </tr>\n",
              "    <tr>\n",
              "      <th>3</th>\n",
              "      <td>Daniel Wagner</td>\n",
              "      <td>4</td>\n",
              "      <td>78</td>\n",
              "      <td>2022-12-20</td>\n",
              "      <td>1245.468680</td>\n",
              "      <td>Parks Group</td>\n",
              "      <td>602</td>\n",
              "      <td>136047.876222</td>\n",
              "      <td>4 years</td>\n",
              "      <td>Own</td>\n",
              "      <td>124.018741</td>\n",
              "      <td>27.969520</td>\n",
              "      <td>51</td>\n",
              "      <td>1</td>\n",
              "      <td>0</td>\n",
              "      <td>0</td>\n",
              "    </tr>\n",
              "    <tr>\n",
              "      <th>4</th>\n",
              "      <td>Cristian Santos</td>\n",
              "      <td>5</td>\n",
              "      <td>38</td>\n",
              "      <td>2023-02-08</td>\n",
              "      <td>1622.866705</td>\n",
              "      <td>Evans, Taylor and Flores</td>\n",
              "      <td>700</td>\n",
              "      <td>71126.553095</td>\n",
              "      <td>10+ years</td>\n",
              "      <td>Rent</td>\n",
              "      <td>2486.156513</td>\n",
              "      <td>3.828747</td>\n",
              "      <td>34</td>\n",
              "      <td>1</td>\n",
              "      <td>1</td>\n",
              "      <td>0</td>\n",
              "    </tr>\n",
              "    <tr>\n",
              "      <th>5</th>\n",
              "      <td>Connie Lawrence</td>\n",
              "      <td>6</td>\n",
              "      <td>92</td>\n",
              "      <td>2023-02-12</td>\n",
              "      <td>1671.742471</td>\n",
              "      <td>Rice, Mendez and Leonard</td>\n",
              "      <td>643</td>\n",
              "      <td>260979.600066</td>\n",
              "      <td>7 years</td>\n",
              "      <td>Rent</td>\n",
              "      <td>1447.911956</td>\n",
              "      <td>27.664844</td>\n",
              "      <td>10</td>\n",
              "      <td>4</td>\n",
              "      <td>1</td>\n",
              "      <td>0</td>\n",
              "    </tr>\n",
              "  </tbody>\n",
              "</table>\n",
              "</div>\n",
              "    <div class=\"colab-df-buttons\">\n",
              "\n",
              "  <div class=\"colab-df-container\">\n",
              "    <button class=\"colab-df-convert\" onclick=\"convertToInteractive('df-f5e346eb-2224-47f1-8e29-de242f06ef83')\"\n",
              "            title=\"Convert this dataframe to an interactive table.\"\n",
              "            style=\"display:none;\">\n",
              "\n",
              "  <svg xmlns=\"http://www.w3.org/2000/svg\" height=\"24px\" viewBox=\"0 -960 960 960\">\n",
              "    <path d=\"M120-120v-720h720v720H120Zm60-500h600v-160H180v160Zm220 220h160v-160H400v160Zm0 220h160v-160H400v160ZM180-400h160v-160H180v160Zm440 0h160v-160H620v160ZM180-180h160v-160H180v160Zm440 0h160v-160H620v160Z\"/>\n",
              "  </svg>\n",
              "    </button>\n",
              "\n",
              "  <style>\n",
              "    .colab-df-container {\n",
              "      display:flex;\n",
              "      gap: 12px;\n",
              "    }\n",
              "\n",
              "    .colab-df-convert {\n",
              "      background-color: #E8F0FE;\n",
              "      border: none;\n",
              "      border-radius: 50%;\n",
              "      cursor: pointer;\n",
              "      display: none;\n",
              "      fill: #1967D2;\n",
              "      height: 32px;\n",
              "      padding: 0 0 0 0;\n",
              "      width: 32px;\n",
              "    }\n",
              "\n",
              "    .colab-df-convert:hover {\n",
              "      background-color: #E2EBFA;\n",
              "      box-shadow: 0px 1px 2px rgba(60, 64, 67, 0.3), 0px 1px 3px 1px rgba(60, 64, 67, 0.15);\n",
              "      fill: #174EA6;\n",
              "    }\n",
              "\n",
              "    .colab-df-buttons div {\n",
              "      margin-bottom: 4px;\n",
              "    }\n",
              "\n",
              "    [theme=dark] .colab-df-convert {\n",
              "      background-color: #3B4455;\n",
              "      fill: #D2E3FC;\n",
              "    }\n",
              "\n",
              "    [theme=dark] .colab-df-convert:hover {\n",
              "      background-color: #434B5C;\n",
              "      box-shadow: 0px 1px 3px 1px rgba(0, 0, 0, 0.15);\n",
              "      filter: drop-shadow(0px 1px 2px rgba(0, 0, 0, 0.3));\n",
              "      fill: #FFFFFF;\n",
              "    }\n",
              "  </style>\n",
              "\n",
              "    <script>\n",
              "      const buttonEl =\n",
              "        document.querySelector('#df-f5e346eb-2224-47f1-8e29-de242f06ef83 button.colab-df-convert');\n",
              "      buttonEl.style.display =\n",
              "        google.colab.kernel.accessAllowed ? 'block' : 'none';\n",
              "\n",
              "      async function convertToInteractive(key) {\n",
              "        const element = document.querySelector('#df-f5e346eb-2224-47f1-8e29-de242f06ef83');\n",
              "        const dataTable =\n",
              "          await google.colab.kernel.invokeFunction('convertToInteractive',\n",
              "                                                    [key], {});\n",
              "        if (!dataTable) return;\n",
              "\n",
              "        const docLinkHtml = 'Like what you see? Visit the ' +\n",
              "          '<a target=\"_blank\" href=https://colab.research.google.com/notebooks/data_table.ipynb>data table notebook</a>'\n",
              "          + ' to learn more about interactive tables.';\n",
              "        element.innerHTML = '';\n",
              "        dataTable['output_type'] = 'display_data';\n",
              "        await google.colab.output.renderOutput(dataTable, element);\n",
              "        const docLink = document.createElement('div');\n",
              "        docLink.innerHTML = docLinkHtml;\n",
              "        element.appendChild(docLink);\n",
              "      }\n",
              "    </script>\n",
              "  </div>\n",
              "\n",
              "\n",
              "<div id=\"df-9bbf3ed1-70fa-45fb-8ba7-91d4fe0eb605\">\n",
              "  <button class=\"colab-df-quickchart\" onclick=\"quickchart('df-9bbf3ed1-70fa-45fb-8ba7-91d4fe0eb605')\"\n",
              "            title=\"Suggest charts\"\n",
              "            style=\"display:none;\">\n",
              "\n",
              "<svg xmlns=\"http://www.w3.org/2000/svg\" height=\"24px\"viewBox=\"0 0 24 24\"\n",
              "     width=\"24px\">\n",
              "    <g>\n",
              "        <path d=\"M19 3H5c-1.1 0-2 .9-2 2v14c0 1.1.9 2 2 2h14c1.1 0 2-.9 2-2V5c0-1.1-.9-2-2-2zM9 17H7v-7h2v7zm4 0h-2V7h2v10zm4 0h-2v-4h2v4z\"/>\n",
              "    </g>\n",
              "</svg>\n",
              "  </button>\n",
              "\n",
              "<style>\n",
              "  .colab-df-quickchart {\n",
              "      --bg-color: #E8F0FE;\n",
              "      --fill-color: #1967D2;\n",
              "      --hover-bg-color: #E2EBFA;\n",
              "      --hover-fill-color: #174EA6;\n",
              "      --disabled-fill-color: #AAA;\n",
              "      --disabled-bg-color: #DDD;\n",
              "  }\n",
              "\n",
              "  [theme=dark] .colab-df-quickchart {\n",
              "      --bg-color: #3B4455;\n",
              "      --fill-color: #D2E3FC;\n",
              "      --hover-bg-color: #434B5C;\n",
              "      --hover-fill-color: #FFFFFF;\n",
              "      --disabled-bg-color: #3B4455;\n",
              "      --disabled-fill-color: #666;\n",
              "  }\n",
              "\n",
              "  .colab-df-quickchart {\n",
              "    background-color: var(--bg-color);\n",
              "    border: none;\n",
              "    border-radius: 50%;\n",
              "    cursor: pointer;\n",
              "    display: none;\n",
              "    fill: var(--fill-color);\n",
              "    height: 32px;\n",
              "    padding: 0;\n",
              "    width: 32px;\n",
              "  }\n",
              "\n",
              "  .colab-df-quickchart:hover {\n",
              "    background-color: var(--hover-bg-color);\n",
              "    box-shadow: 0 1px 2px rgba(60, 64, 67, 0.3), 0 1px 3px 1px rgba(60, 64, 67, 0.15);\n",
              "    fill: var(--button-hover-fill-color);\n",
              "  }\n",
              "\n",
              "  .colab-df-quickchart-complete:disabled,\n",
              "  .colab-df-quickchart-complete:disabled:hover {\n",
              "    background-color: var(--disabled-bg-color);\n",
              "    fill: var(--disabled-fill-color);\n",
              "    box-shadow: none;\n",
              "  }\n",
              "\n",
              "  .colab-df-spinner {\n",
              "    border: 2px solid var(--fill-color);\n",
              "    border-color: transparent;\n",
              "    border-bottom-color: var(--fill-color);\n",
              "    animation:\n",
              "      spin 1s steps(1) infinite;\n",
              "  }\n",
              "\n",
              "  @keyframes spin {\n",
              "    0% {\n",
              "      border-color: transparent;\n",
              "      border-bottom-color: var(--fill-color);\n",
              "      border-left-color: var(--fill-color);\n",
              "    }\n",
              "    20% {\n",
              "      border-color: transparent;\n",
              "      border-left-color: var(--fill-color);\n",
              "      border-top-color: var(--fill-color);\n",
              "    }\n",
              "    30% {\n",
              "      border-color: transparent;\n",
              "      border-left-color: var(--fill-color);\n",
              "      border-top-color: var(--fill-color);\n",
              "      border-right-color: var(--fill-color);\n",
              "    }\n",
              "    40% {\n",
              "      border-color: transparent;\n",
              "      border-right-color: var(--fill-color);\n",
              "      border-top-color: var(--fill-color);\n",
              "    }\n",
              "    60% {\n",
              "      border-color: transparent;\n",
              "      border-right-color: var(--fill-color);\n",
              "    }\n",
              "    80% {\n",
              "      border-color: transparent;\n",
              "      border-right-color: var(--fill-color);\n",
              "      border-bottom-color: var(--fill-color);\n",
              "    }\n",
              "    90% {\n",
              "      border-color: transparent;\n",
              "      border-bottom-color: var(--fill-color);\n",
              "    }\n",
              "  }\n",
              "</style>\n",
              "\n",
              "  <script>\n",
              "    async function quickchart(key) {\n",
              "      const quickchartButtonEl =\n",
              "        document.querySelector('#' + key + ' button');\n",
              "      quickchartButtonEl.disabled = true;  // To prevent multiple clicks.\n",
              "      quickchartButtonEl.classList.add('colab-df-spinner');\n",
              "      try {\n",
              "        const charts = await google.colab.kernel.invokeFunction(\n",
              "            'suggestCharts', [key], {});\n",
              "      } catch (error) {\n",
              "        console.error('Error during call to suggestCharts:', error);\n",
              "      }\n",
              "      quickchartButtonEl.classList.remove('colab-df-spinner');\n",
              "      quickchartButtonEl.classList.add('colab-df-quickchart-complete');\n",
              "    }\n",
              "    (() => {\n",
              "      let quickchartButtonEl =\n",
              "        document.querySelector('#df-9bbf3ed1-70fa-45fb-8ba7-91d4fe0eb605 button');\n",
              "      quickchartButtonEl.style.display =\n",
              "        google.colab.kernel.accessAllowed ? 'block' : 'none';\n",
              "    })();\n",
              "  </script>\n",
              "</div>\n",
              "    </div>\n",
              "  </div>\n"
            ]
          },
          "metadata": {},
          "execution_count": 46
        }
      ]
    },
    {
      "cell_type": "code",
      "source": [
        "#install package\n",
        "!pip install phe"
      ],
      "metadata": {
        "colab": {
          "base_uri": "https://localhost:8080/"
        },
        "id": "qPKMZ7vUeDWA",
        "outputId": "76544766-62fd-420e-c1f4-c05c47e02c9f"
      },
      "id": "qPKMZ7vUeDWA",
      "execution_count": null,
      "outputs": [
        {
          "output_type": "stream",
          "name": "stdout",
          "text": [
            "Collecting phe\n",
            "  Downloading phe-1.5.0-py2.py3-none-any.whl (53 kB)\n",
            "\u001b[?25l     \u001b[90m━━━━━━━━━━━━━━━━━━━━━━━━━━━━━━━━━━━━━━━━\u001b[0m \u001b[32m0.0/53.7 kB\u001b[0m \u001b[31m?\u001b[0m eta \u001b[36m-:--:--\u001b[0m\r\u001b[2K     \u001b[90m━━━━━━━━━━━━━━━━━━━━━━━━━━━━━━━━━━━━━━━━\u001b[0m \u001b[32m53.7/53.7 kB\u001b[0m \u001b[31m1.5 MB/s\u001b[0m eta \u001b[36m0:00:00\u001b[0m\n",
            "\u001b[?25hInstalling collected packages: phe\n",
            "Successfully installed phe-1.5.0\n"
          ]
        }
      ]
    },
    {
      "cell_type": "code",
      "source": [
        "#import library\n",
        "from phe import paillier\n",
        "\n",
        "\n",
        "#Each Assumed Party private input\n",
        "ages_party1 = data['Age'].iloc[:len(data) // 3]\n",
        "ages_party2 = data['Age'].iloc[len(data) // 3: 2 * len(data) // 3]\n",
        "ages_party3 = data['Age'].iloc[2 * len(data) // 3:]\n",
        "\n",
        "# Generate public and private keys\n",
        "public_key, private_key = paillier.generate_paillier_keypair()\n",
        "\n",
        "# Encrypt the inputs\n",
        "encrypted_ages_party1 = [public_key.encrypt(age) for age in ages_party1]\n",
        "encrypted_ages_party2 = [public_key.encrypt(age) for age in ages_party2]\n",
        "encrypted_ages_party3 = [public_key.encrypt(age) for age in ages_party3]\n",
        "\n",
        "# Sum of encrypted inputs\n",
        "encrypted_sum = sum(encrypted_ages_party1) + sum(encrypted_ages_party2) + sum(encrypted_ages_party3)\n",
        "\n",
        "# Decrypt the result\n",
        "decrypted_sum = private_key.decrypt(encrypted_sum)\n",
        "\n",
        "# Compute the average age\n",
        "average_age = decrypted_sum / len(data['Age'])\n",
        "\n",
        "print(f\"The average age of customer is: {average_age}\")\n"
      ],
      "metadata": {
        "colab": {
          "base_uri": "https://localhost:8080/"
        },
        "id": "VrB1fQnH4A4Y",
        "outputId": "96ef083f-7d91-44da-8c28-cd540ea6a4fd"
      },
      "id": "VrB1fQnH4A4Y",
      "execution_count": null,
      "outputs": [
        {
          "output_type": "stream",
          "name": "stdout",
          "text": [
            "The average age of customer is: 66.33333333333333\n"
          ]
        }
      ]
    },
    {
      "cell_type": "code",
      "source": [
        "#Each Assumed Party private input\n",
        "print(f\"Party 1 input is: {ages_party1}\")\n",
        "print(f\"Party 2 input is: {ages_party2}\")\n",
        "print(f\"Party 3 input is: {ages_party3}\")"
      ],
      "metadata": {
        "colab": {
          "base_uri": "https://localhost:8080/"
        },
        "id": "I0_tTaQs7NHS",
        "outputId": "806a8e43-db01-4579-aa30-526e18d69ab5"
      },
      "id": "I0_tTaQs7NHS",
      "execution_count": null,
      "outputs": [
        {
          "output_type": "stream",
          "name": "stdout",
          "text": [
            "Party 1 input is: 0    69\n",
            "1    32\n",
            "Name: Age, dtype: int64\n",
            "Party 2 input is: 2    89\n",
            "3    78\n",
            "Name: Age, dtype: int64\n",
            "Party 3 input is: 4    38\n",
            "5    92\n",
            "Name: Age, dtype: int64\n"
          ]
        }
      ]
    }
  ],
  "metadata": {
    "kernelspec": {
      "display_name": "Python 3 (ipykernel)",
      "language": "python",
      "name": "python3"
    },
    "language_info": {
      "codemirror_mode": {
        "name": "ipython",
        "version": 3
      },
      "file_extension": ".py",
      "mimetype": "text/x-python",
      "name": "python",
      "nbconvert_exporter": "python",
      "pygments_lexer": "ipython3",
      "version": "3.11.5"
    },
    "colab": {
      "provenance": []
    }
  },
  "nbformat": 4,
  "nbformat_minor": 5
}