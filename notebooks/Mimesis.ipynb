{
  "cells": [
    {
      "cell_type": "markdown",
      "metadata": {
        "id": "Stg2LLj4-GMX"
      },
      "source": [
        "# **Mimesis Data Generator**"
      ]
    },
    {
      "cell_type": "markdown",
      "metadata": {
        "id": "1cbs5yP8oJY8"
      },
      "source": [
        "Mimesis is a robust data generator for Python that can produce a wide range of synthetic data in various languages. This tool is useful for populating testing databases, creating fake API endpoints, filling pandas DataFrames, generating JSON and XML files with custom structures, and anonymizing production data, among other purposes.\n",
        "\n",
        "The purpose of this notebook is to attempt to create a sythetic AML dataset from a financial institution in Australia."
      ]
    },
    {
      "cell_type": "markdown",
      "metadata": {
        "id": "Tay1QVjz4E2x"
      },
      "source": [
        "The first step is to install the mimesis library."
      ]
    },
    {
      "cell_type": "code",
      "execution_count": null,
      "metadata": {
        "colab": {
          "base_uri": "https://localhost:8080/"
        },
        "id": "VApqQ8mqoFmC",
        "outputId": "892208eb-1576-409e-bd62-8404ea7a194a"
      },
      "outputs": [
        {
          "name": "stdout",
          "output_type": "stream",
          "text": [
            "Collecting mimesis\n",
            "  Downloading mimesis-15.1.0-py3-none-any.whl (4.5 MB)\n",
            "\u001b[2K     \u001b[90m━━━━━━━━━━━━━━━━━━━━━━━━━━━━━━━━━━━━━━━━\u001b[0m \u001b[32m4.5/4.5 MB\u001b[0m \u001b[31m13.6 MB/s\u001b[0m eta \u001b[36m0:00:00\u001b[0m\n",
            "\u001b[?25hInstalling collected packages: mimesis\n",
            "Successfully installed mimesis-15.1.0\n"
          ]
        }
      ],
      "source": [
        "!pip install mimesis"
      ]
    },
    {
      "cell_type": "markdown",
      "metadata": {
        "id": "JiMhRbXbrKVG"
      },
      "source": [
        "The code below provides a list of attributes and methods in the object named 'Fake' from the generic provider."
      ]
    },
    {
      "cell_type": "code",
      "execution_count": null,
      "metadata": {
        "colab": {
          "base_uri": "https://localhost:8080/"
        },
        "id": "OgO8C38Lm0g9",
        "outputId": "9e4dcfb7-5d31-46f3-ad4f-c7e0dc76d10c"
      },
      "outputs": [
        {
          "name": "stdout",
          "output_type": "stream",
          "text": [
            "['address', 'binaryfile', 'choice', 'code', 'cryptographic', 'datetime', 'development', 'file', 'finance', 'food', 'hardware', 'internet', 'numeric', 'path', 'payment', 'person', 'science', 'text', 'transport']\n"
          ]
        }
      ],
      "source": [
        "from mimesis import Generic\n",
        "from mimesis.locales import Locale\n",
        "\n",
        "fake = Generic(Locale.EN_AU)\n",
        "print(dir(fake))"
      ]
    },
    {
      "cell_type": "markdown",
      "metadata": {
        "id": "ObzeypZUrmDG"
      },
      "source": [
        "The code below shows the methods within the address method."
      ]
    },
    {
      "cell_type": "code",
      "execution_count": null,
      "metadata": {
        "colab": {
          "base_uri": "https://localhost:8080/"
        },
        "id": "9pLRuhxVq-7j",
        "outputId": "57a3eab4-6ddc-4403-a1a1-841637d50c6f"
      },
      "outputs": [
        {
          "name": "stdout",
          "output_type": "stream",
          "text": [
            "['Meta', '__class__', '__delattr__', '__dict__', '__dir__', '__doc__', '__eq__', '__format__', '__ge__', '__getattribute__', '__gt__', '__hash__', '__init__', '__init_subclass__', '__le__', '__lt__', '__module__', '__ne__', '__new__', '__reduce__', '__reduce_ex__', '__repr__', '__setattr__', '__sizeof__', '__str__', '__subclasshook__', '__weakref__', '_dataset', '_dd_to_dms', '_extract', '_get_fs', '_has_seed', '_load_dataset', '_override_locale', '_read_global_file', '_setup_locale', '_update_dict', 'address', 'calling_code', 'city', 'continent', 'coordinates', 'country', 'country_code', 'country_emoji_flag', 'default_country', 'federal_subject', 'get_current_locale', 'isd_code', 'latitude', 'locale', 'longitude', 'override_locale', 'postal_code', 'prefecture', 'province', 'random', 'region', 'reseed', 'seed', 'state', 'street_name', 'street_number', 'street_suffix', 'update_dataset', 'validate_enum', 'zip_code']\n"
          ]
        }
      ],
      "source": [
        "address_methods = dir(fake.address)\n",
        "print(address_methods)"
      ]
    },
    {
      "cell_type": "markdown",
      "metadata": {
        "id": "2WeUkSTer-5B"
      },
      "source": [
        "A dataframe is created by calling different providers and the methods and a for loop is used to iterate over 1000 samples. An extra bit of code is added below the dataframe to ensure that only positive values are generated for transaction amounts and also, only unique transaction amounts."
      ]
    },
    {
      "cell_type": "code",
      "execution_count": null,
      "metadata": {
        "colab": {
          "base_uri": "https://localhost:8080/",
          "height": 206
        },
        "id": "8VLpf3lJr6YA",
        "outputId": "c9cf4631-dd78-41f6-9f89-e50e077115b6"
      },
      "outputs": [
        {
          "data": {
            "application/vnd.google.colaboratory.intrinsic+json": {
              "summary": "{\n  \"name\": \"df\",\n  \"rows\": 1000,\n  \"fields\": [\n    {\n      \"column\": \"customer_id\",\n      \"properties\": {\n        \"dtype\": \"number\",\n        \"std\": 289699,\n        \"min\": 433,\n        \"max\": 998682,\n        \"num_unique_values\": 999,\n        \"samples\": [\n          38168,\n          44258,\n          22784\n        ],\n        \"semantic_type\": \"\",\n        \"description\": \"\"\n      }\n    },\n    {\n      \"column\": \"name\",\n      \"properties\": {\n        \"dtype\": \"string\",\n        \"num_unique_values\": 1000,\n        \"samples\": [\n          \"Jamey Calderon\",\n          \"Phillip Hardy\",\n          \"Maile Bird\"\n        ],\n        \"semantic_type\": \"\",\n        \"description\": \"\"\n      }\n    },\n    {\n      \"column\": \"email\",\n      \"properties\": {\n        \"dtype\": \"string\",\n        \"num_unique_values\": 1000,\n        \"samples\": [\n          \"voices2008@example.com\",\n          \"animal1994@yandex.com\",\n          \"properties2003@protonmail.com\"\n        ],\n        \"semantic_type\": \"\",\n        \"description\": \"\"\n      }\n    },\n    {\n      \"column\": \"occupation\",\n      \"properties\": {\n        \"dtype\": \"string\",\n        \"num_unique_values\": 676,\n        \"samples\": [\n          \"Technical Co-ordinator\",\n          \"Import Consultant\",\n          \"Butchery Manager\"\n        ],\n        \"semantic_type\": \"\",\n        \"description\": \"\"\n      }\n    },\n    {\n      \"column\": \"bank_1\",\n      \"properties\": {\n        \"dtype\": \"category\",\n        \"num_unique_values\": 63,\n        \"samples\": [\n          \"Laboratories Credit Union Ltd\",\n          \"Bendigo and Adelaide Bank Limited\",\n          \"ING Bank Limited\"\n        ],\n        \"semantic_type\": \"\",\n        \"description\": \"\"\n      }\n    },\n    {\n      \"column\": \"bank_2\",\n      \"properties\": {\n        \"dtype\": \"category\",\n        \"num_unique_values\": 63,\n        \"samples\": [\n          \"Bank of South Australia Limited\",\n          \"Heritage Bank Limited\",\n          \"Northern Beaches Credit Union Ltd\"\n        ],\n        \"semantic_type\": \"\",\n        \"description\": \"\"\n      }\n    },\n    {\n      \"column\": \"transaction_date\",\n      \"properties\": {\n        \"dtype\": \"date\",\n        \"min\": \"2000-01-18\",\n        \"max\": \"2024-12-25\",\n        \"num_unique_values\": 954,\n        \"samples\": [\n          \"2004-01-02\",\n          \"2001-06-04\",\n          \"2017-09-23\"\n        ],\n        \"semantic_type\": \"\",\n        \"description\": \"\"\n      }\n    },\n    {\n      \"column\": \"transaction_amount\",\n      \"properties\": {\n        \"dtype\": \"string\",\n        \"num_unique_values\": 1000,\n        \"samples\": [\n          \"147.91\",\n          \"462.23\",\n          \"328.77\"\n        ],\n        \"semantic_type\": \"\",\n        \"description\": \"\"\n      }\n    },\n    {\n      \"column\": \"transaction_type\",\n      \"properties\": {\n        \"dtype\": \"category\",\n        \"num_unique_values\": 3,\n        \"samples\": [\n          \"BSB\",\n          \"PayID\",\n          \"Internal\"\n        ],\n        \"semantic_type\": \"\",\n        \"description\": \"\"\n      }\n    },\n    {\n      \"column\": \"payment_type\",\n      \"properties\": {\n        \"dtype\": \"category\",\n        \"num_unique_values\": 2,\n        \"samples\": [\n          \"Debit\",\n          \"Credit\"\n        ],\n        \"semantic_type\": \"\",\n        \"description\": \"\"\n      }\n    }\n  ]\n}",
              "type": "dataframe",
              "variable_name": "df"
            },
            "text/html": [
              "\n",
              "  <div id=\"df-e8cb9cc1-856b-438d-8b9d-9b8a8d7b3e2d\" class=\"colab-df-container\">\n",
              "    <div>\n",
              "<style scoped>\n",
              "    .dataframe tbody tr th:only-of-type {\n",
              "        vertical-align: middle;\n",
              "    }\n",
              "\n",
              "    .dataframe tbody tr th {\n",
              "        vertical-align: top;\n",
              "    }\n",
              "\n",
              "    .dataframe thead th {\n",
              "        text-align: right;\n",
              "    }\n",
              "</style>\n",
              "<table border=\"1\" class=\"dataframe\">\n",
              "  <thead>\n",
              "    <tr style=\"text-align: right;\">\n",
              "      <th></th>\n",
              "      <th>customer_id</th>\n",
              "      <th>name</th>\n",
              "      <th>email</th>\n",
              "      <th>occupation</th>\n",
              "      <th>bank_1</th>\n",
              "      <th>bank_2</th>\n",
              "      <th>transaction_date</th>\n",
              "      <th>transaction_amount</th>\n",
              "      <th>transaction_type</th>\n",
              "      <th>payment_type</th>\n",
              "    </tr>\n",
              "  </thead>\n",
              "  <tbody>\n",
              "    <tr>\n",
              "      <th>0</th>\n",
              "      <td>44077</td>\n",
              "      <td>Nohemi Floyd</td>\n",
              "      <td>today1886@yandex.com</td>\n",
              "      <td>Steel Erector</td>\n",
              "      <td>ING Bank Limited</td>\n",
              "      <td>Northern Beaches Credit Union Ltd</td>\n",
              "      <td>2008-07-30</td>\n",
              "      <td>465.81</td>\n",
              "      <td>BSB</td>\n",
              "      <td>Credit</td>\n",
              "    </tr>\n",
              "    <tr>\n",
              "      <th>1</th>\n",
              "      <td>667000</td>\n",
              "      <td>Dani Walter</td>\n",
              "      <td>missouri1833@yandex.com</td>\n",
              "      <td>Systems Engineer</td>\n",
              "      <td>Police Bank Ltd</td>\n",
              "      <td>Community First Credit Union Limited</td>\n",
              "      <td>2013-11-02</td>\n",
              "      <td>381.47</td>\n",
              "      <td>BSB</td>\n",
              "      <td>Debit</td>\n",
              "    </tr>\n",
              "    <tr>\n",
              "      <th>2</th>\n",
              "      <td>816283</td>\n",
              "      <td>Shaun Grimes</td>\n",
              "      <td>award1994@duck.com</td>\n",
              "      <td>Stonemason</td>\n",
              "      <td>WAW Credit Union Co-operative Limited</td>\n",
              "      <td>Maitland Mutual Building Society Ltd</td>\n",
              "      <td>2010-04-30</td>\n",
              "      <td>419.67</td>\n",
              "      <td>PayID</td>\n",
              "      <td>Credit</td>\n",
              "    </tr>\n",
              "    <tr>\n",
              "      <th>3</th>\n",
              "      <td>712287</td>\n",
              "      <td>Billy Forbes</td>\n",
              "      <td>massage1831@live.com</td>\n",
              "      <td>Furniture Restorer</td>\n",
              "      <td>P&amp;N Bank</td>\n",
              "      <td>Auswide Bank Ltd</td>\n",
              "      <td>2010-09-22</td>\n",
              "      <td>351.19</td>\n",
              "      <td>BSB</td>\n",
              "      <td>Credit</td>\n",
              "    </tr>\n",
              "    <tr>\n",
              "      <th>4</th>\n",
              "      <td>592906</td>\n",
              "      <td>Angle Marquez</td>\n",
              "      <td>promoted1860@gmail.com</td>\n",
              "      <td>Barber</td>\n",
              "      <td>Bank of Queensland Limited</td>\n",
              "      <td>G&amp;C Mutual Bank</td>\n",
              "      <td>2013-02-27</td>\n",
              "      <td>517.62</td>\n",
              "      <td>PayID</td>\n",
              "      <td>Credit</td>\n",
              "    </tr>\n",
              "  </tbody>\n",
              "</table>\n",
              "</div>\n",
              "    <div class=\"colab-df-buttons\">\n",
              "\n",
              "  <div class=\"colab-df-container\">\n",
              "    <button class=\"colab-df-convert\" onclick=\"convertToInteractive('df-e8cb9cc1-856b-438d-8b9d-9b8a8d7b3e2d')\"\n",
              "            title=\"Convert this dataframe to an interactive table.\"\n",
              "            style=\"display:none;\">\n",
              "\n",
              "  <svg xmlns=\"http://www.w3.org/2000/svg\" height=\"24px\" viewBox=\"0 -960 960 960\">\n",
              "    <path d=\"M120-120v-720h720v720H120Zm60-500h600v-160H180v160Zm220 220h160v-160H400v160Zm0 220h160v-160H400v160ZM180-400h160v-160H180v160Zm440 0h160v-160H620v160ZM180-180h160v-160H180v160Zm440 0h160v-160H620v160Z\"/>\n",
              "  </svg>\n",
              "    </button>\n",
              "\n",
              "  <style>\n",
              "    .colab-df-container {\n",
              "      display:flex;\n",
              "      gap: 12px;\n",
              "    }\n",
              "\n",
              "    .colab-df-convert {\n",
              "      background-color: #E8F0FE;\n",
              "      border: none;\n",
              "      border-radius: 50%;\n",
              "      cursor: pointer;\n",
              "      display: none;\n",
              "      fill: #1967D2;\n",
              "      height: 32px;\n",
              "      padding: 0 0 0 0;\n",
              "      width: 32px;\n",
              "    }\n",
              "\n",
              "    .colab-df-convert:hover {\n",
              "      background-color: #E2EBFA;\n",
              "      box-shadow: 0px 1px 2px rgba(60, 64, 67, 0.3), 0px 1px 3px 1px rgba(60, 64, 67, 0.15);\n",
              "      fill: #174EA6;\n",
              "    }\n",
              "\n",
              "    .colab-df-buttons div {\n",
              "      margin-bottom: 4px;\n",
              "    }\n",
              "\n",
              "    [theme=dark] .colab-df-convert {\n",
              "      background-color: #3B4455;\n",
              "      fill: #D2E3FC;\n",
              "    }\n",
              "\n",
              "    [theme=dark] .colab-df-convert:hover {\n",
              "      background-color: #434B5C;\n",
              "      box-shadow: 0px 1px 3px 1px rgba(0, 0, 0, 0.15);\n",
              "      filter: drop-shadow(0px 1px 2px rgba(0, 0, 0, 0.3));\n",
              "      fill: #FFFFFF;\n",
              "    }\n",
              "  </style>\n",
              "\n",
              "    <script>\n",
              "      const buttonEl =\n",
              "        document.querySelector('#df-e8cb9cc1-856b-438d-8b9d-9b8a8d7b3e2d button.colab-df-convert');\n",
              "      buttonEl.style.display =\n",
              "        google.colab.kernel.accessAllowed ? 'block' : 'none';\n",
              "\n",
              "      async function convertToInteractive(key) {\n",
              "        const element = document.querySelector('#df-e8cb9cc1-856b-438d-8b9d-9b8a8d7b3e2d');\n",
              "        const dataTable =\n",
              "          await google.colab.kernel.invokeFunction('convertToInteractive',\n",
              "                                                    [key], {});\n",
              "        if (!dataTable) return;\n",
              "\n",
              "        const docLinkHtml = 'Like what you see? Visit the ' +\n",
              "          '<a target=\"_blank\" href=https://colab.research.google.com/notebooks/data_table.ipynb>data table notebook</a>'\n",
              "          + ' to learn more about interactive tables.';\n",
              "        element.innerHTML = '';\n",
              "        dataTable['output_type'] = 'display_data';\n",
              "        await google.colab.output.renderOutput(dataTable, element);\n",
              "        const docLink = document.createElement('div');\n",
              "        docLink.innerHTML = docLinkHtml;\n",
              "        element.appendChild(docLink);\n",
              "      }\n",
              "    </script>\n",
              "  </div>\n",
              "\n",
              "\n",
              "<div id=\"df-1786bba7-d3f8-4069-bc9f-129f968f0b95\">\n",
              "  <button class=\"colab-df-quickchart\" onclick=\"quickchart('df-1786bba7-d3f8-4069-bc9f-129f968f0b95')\"\n",
              "            title=\"Suggest charts\"\n",
              "            style=\"display:none;\">\n",
              "\n",
              "<svg xmlns=\"http://www.w3.org/2000/svg\" height=\"24px\"viewBox=\"0 0 24 24\"\n",
              "     width=\"24px\">\n",
              "    <g>\n",
              "        <path d=\"M19 3H5c-1.1 0-2 .9-2 2v14c0 1.1.9 2 2 2h14c1.1 0 2-.9 2-2V5c0-1.1-.9-2-2-2zM9 17H7v-7h2v7zm4 0h-2V7h2v10zm4 0h-2v-4h2v4z\"/>\n",
              "    </g>\n",
              "</svg>\n",
              "  </button>\n",
              "\n",
              "<style>\n",
              "  .colab-df-quickchart {\n",
              "      --bg-color: #E8F0FE;\n",
              "      --fill-color: #1967D2;\n",
              "      --hover-bg-color: #E2EBFA;\n",
              "      --hover-fill-color: #174EA6;\n",
              "      --disabled-fill-color: #AAA;\n",
              "      --disabled-bg-color: #DDD;\n",
              "  }\n",
              "\n",
              "  [theme=dark] .colab-df-quickchart {\n",
              "      --bg-color: #3B4455;\n",
              "      --fill-color: #D2E3FC;\n",
              "      --hover-bg-color: #434B5C;\n",
              "      --hover-fill-color: #FFFFFF;\n",
              "      --disabled-bg-color: #3B4455;\n",
              "      --disabled-fill-color: #666;\n",
              "  }\n",
              "\n",
              "  .colab-df-quickchart {\n",
              "    background-color: var(--bg-color);\n",
              "    border: none;\n",
              "    border-radius: 50%;\n",
              "    cursor: pointer;\n",
              "    display: none;\n",
              "    fill: var(--fill-color);\n",
              "    height: 32px;\n",
              "    padding: 0;\n",
              "    width: 32px;\n",
              "  }\n",
              "\n",
              "  .colab-df-quickchart:hover {\n",
              "    background-color: var(--hover-bg-color);\n",
              "    box-shadow: 0 1px 2px rgba(60, 64, 67, 0.3), 0 1px 3px 1px rgba(60, 64, 67, 0.15);\n",
              "    fill: var(--button-hover-fill-color);\n",
              "  }\n",
              "\n",
              "  .colab-df-quickchart-complete:disabled,\n",
              "  .colab-df-quickchart-complete:disabled:hover {\n",
              "    background-color: var(--disabled-bg-color);\n",
              "    fill: var(--disabled-fill-color);\n",
              "    box-shadow: none;\n",
              "  }\n",
              "\n",
              "  .colab-df-spinner {\n",
              "    border: 2px solid var(--fill-color);\n",
              "    border-color: transparent;\n",
              "    border-bottom-color: var(--fill-color);\n",
              "    animation:\n",
              "      spin 1s steps(1) infinite;\n",
              "  }\n",
              "\n",
              "  @keyframes spin {\n",
              "    0% {\n",
              "      border-color: transparent;\n",
              "      border-bottom-color: var(--fill-color);\n",
              "      border-left-color: var(--fill-color);\n",
              "    }\n",
              "    20% {\n",
              "      border-color: transparent;\n",
              "      border-left-color: var(--fill-color);\n",
              "      border-top-color: var(--fill-color);\n",
              "    }\n",
              "    30% {\n",
              "      border-color: transparent;\n",
              "      border-left-color: var(--fill-color);\n",
              "      border-top-color: var(--fill-color);\n",
              "      border-right-color: var(--fill-color);\n",
              "    }\n",
              "    40% {\n",
              "      border-color: transparent;\n",
              "      border-right-color: var(--fill-color);\n",
              "      border-top-color: var(--fill-color);\n",
              "    }\n",
              "    60% {\n",
              "      border-color: transparent;\n",
              "      border-right-color: var(--fill-color);\n",
              "    }\n",
              "    80% {\n",
              "      border-color: transparent;\n",
              "      border-right-color: var(--fill-color);\n",
              "      border-bottom-color: var(--fill-color);\n",
              "    }\n",
              "    90% {\n",
              "      border-color: transparent;\n",
              "      border-bottom-color: var(--fill-color);\n",
              "    }\n",
              "  }\n",
              "</style>\n",
              "\n",
              "  <script>\n",
              "    async function quickchart(key) {\n",
              "      const quickchartButtonEl =\n",
              "        document.querySelector('#' + key + ' button');\n",
              "      quickchartButtonEl.disabled = true;  // To prevent multiple clicks.\n",
              "      quickchartButtonEl.classList.add('colab-df-spinner');\n",
              "      try {\n",
              "        const charts = await google.colab.kernel.invokeFunction(\n",
              "            'suggestCharts', [key], {});\n",
              "      } catch (error) {\n",
              "        console.error('Error during call to suggestCharts:', error);\n",
              "      }\n",
              "      quickchartButtonEl.classList.remove('colab-df-spinner');\n",
              "      quickchartButtonEl.classList.add('colab-df-quickchart-complete');\n",
              "    }\n",
              "    (() => {\n",
              "      let quickchartButtonEl =\n",
              "        document.querySelector('#df-1786bba7-d3f8-4069-bc9f-129f968f0b95 button');\n",
              "      quickchartButtonEl.style.display =\n",
              "        google.colab.kernel.accessAllowed ? 'block' : 'none';\n",
              "    })();\n",
              "  </script>\n",
              "</div>\n",
              "\n",
              "    </div>\n",
              "  </div>\n"
            ],
            "text/plain": [
              "   customer_id           name                    email          occupation  \\\n",
              "0        44077   Nohemi Floyd     today1886@yandex.com       Steel Erector   \n",
              "1       667000    Dani Walter  missouri1833@yandex.com    Systems Engineer   \n",
              "2       816283   Shaun Grimes       award1994@duck.com          Stonemason   \n",
              "3       712287   Billy Forbes     massage1831@live.com  Furniture Restorer   \n",
              "4       592906  Angle Marquez   promoted1860@gmail.com              Barber   \n",
              "\n",
              "                                  bank_1  \\\n",
              "0                       ING Bank Limited   \n",
              "1                        Police Bank Ltd   \n",
              "2  WAW Credit Union Co-operative Limited   \n",
              "3                               P&N Bank   \n",
              "4             Bank of Queensland Limited   \n",
              "\n",
              "                                 bank_2 transaction_date transaction_amount  \\\n",
              "0     Northern Beaches Credit Union Ltd       2008-07-30             465.81   \n",
              "1  Community First Credit Union Limited       2013-11-02             381.47   \n",
              "2  Maitland Mutual Building Society Ltd       2010-04-30             419.67   \n",
              "3                      Auswide Bank Ltd       2010-09-22             351.19   \n",
              "4                       G&C Mutual Bank       2013-02-27             517.62   \n",
              "\n",
              "  transaction_type payment_type  \n",
              "0              BSB       Credit  \n",
              "1              BSB        Debit  \n",
              "2            PayID       Credit  \n",
              "3              BSB       Credit  \n",
              "4            PayID       Credit  "
            ]
          },
          "execution_count": 7,
          "metadata": {},
          "output_type": "execute_result"
        }
      ],
      "source": [
        "import pandas as pd\n",
        "import numpy as np\n",
        "\n",
        "df = pd.DataFrame(\n",
        "   [\n",
        "       {\n",
        "           \"customer_id\": np.random.randint(1, 1000000),\n",
        "           \"name\": fake.person.full_name(),\n",
        "           \"email\": fake.person.email(),\n",
        "           \"occupation\": fake.person.occupation(),\n",
        "           \"bank_1\": fake.finance.bank(),\n",
        "           \"bank_2\": fake.finance.bank(),                                       #Could be the same bank.\n",
        "           \"transaction_date\": fake.datetime.date(),\n",
        "           \"transaction_amount\": round(max(0.01, round(fake.numeric.decimal_number(), 2)), 2),\n",
        "           \"transaction_type\": np.random.choice(['PayID', 'BSB', 'Internal']),\n",
        "           \"payment_type\": np.random.choice(['Credit', 'Debit']),\n",
        "       }\n",
        "       for _ in range(1000)\n",
        "   ]\n",
        ")\n",
        "\n",
        "# Ensure unique transaction amounts\n",
        "generated_amounts = set()\n",
        "for i, amount in enumerate(df['transaction_amount']):\n",
        "    while amount in generated_amounts:\n",
        "        amount = round(max(0.01, round(fake.numeric.decimal_number(), 2)), 2)\n",
        "    df.at[i, 'transaction_amount'] = amount\n",
        "    generated_amounts.add(amount)\n",
        "\n",
        "df.head()\n"
      ]
    },
    {
      "cell_type": "markdown",
      "metadata": {
        "id": "vcO0pKSx-DWk"
      },
      "source": [
        "### **Discussion**"
      ]
    },
    {
      "cell_type": "markdown",
      "metadata": {
        "id": "DXEmOMou-uJV"
      },
      "source": [
        "The strength of Mimesis lies in the ability to generate data in many languages and to access many data providers specific to the language selected. An example given in the dataset created in this notebook is bank names.\n",
        "\n",
        "Another strength is it's comparably faster run time and ability to produce more unique data (compared with Faker) (https://mimesis.name/en/master/about.html).\n",
        "\n",
        "However, similar to Faker, there are limitations to Mimesis such as it's lack of ability to add arguments to built in functions. To create custom data fields, new functions need to be created which can be time consuming.\n",
        "\n",
        "One other issue is it's ability to create data which resemebles the correct statistical properties of a similar dataset. For example, randomising certain features such as or transaction type will likely follow standard distributions but this may not always be the case. There could be skewness or other distributions which the data may follow so it is important to consider this when generating data.\n",
        "\n"
      ]
    }
  ],
  "metadata": {
    "colab": {
      "provenance": []
    },
    "kernelspec": {
      "display_name": "Python 3",
      "name": "python3"
    },
    "language_info": {
      "name": "python"
    }
  },
  "nbformat": 4,
  "nbformat_minor": 0
}
