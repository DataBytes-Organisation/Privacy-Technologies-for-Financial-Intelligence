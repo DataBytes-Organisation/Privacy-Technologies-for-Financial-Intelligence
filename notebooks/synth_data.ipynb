#import necessary libraries
from faker import Faker
import pandas as pd
import numpy as np
import time

fake = Faker()

#create a function for creating realistic fake financial transaction data, including name, DOB, ID etc.
def create_data(x):
	person ={}
	for i in range(0,x):
		person[i] = {}
		person[i]['Sender'] = fake.name()
		person[i]['S DOB'] = fake.date_of_birth(minimum_age=16,maximum_age=120)
		#person[i]['S ID#'] = np.random.choice(np.arange(1000000,9999999),replace=False) #this will avoid duplicate ID 					numbers but runs slowly, test on your system with a small value before generating large datasets.
		person[i]['S ID#'] = np.random.randint(1000000,9999999) #this will include duplicate ID numbers, but runs very quickly. It should be used unless duplicates are undesireable.
		person[i]['Sender Address'] = fake.address()
		person[i]['S Country'] = fake.country()
		person[i]['Amount AUD'] = np.random.randint(0,99999)
		person[i]['Receiver'] = fake.name()
		person[i]['R DOB'] = fake.date_of_birth(minimum_age=16,maximum_age=120)
		person[i]['R ID#'] = np.random.randint(1000000,9999999)
		person[i]['Receiver Address'] = fake.address()
		person[i]['Receiver Country'] = fake.country()
	return  person

tic = time.perf_counter() #starts a timer
df = pd.DataFrame(create_data(10000)).transpose() #runs def create_data(number of rows required in output goes here)
toc = time.perf_counter() #ends the timer
print(f"Synthetic data creation time was: {toc - tic:0.6f} seconds") #returns text and the amount of time the process required
print(df.head(10000)) #prints first and last entries of the dataframe

df.to_csv('synth_data1.csv') #outputs the dataframe to a csv file
#df.to_csv('synth_data2.csv') #outputs the dataframe to a csv file


