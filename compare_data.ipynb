{
 "cells": [
  {
   "cell_type": "code",
   "execution_count": null,
   "metadata": {},
   "outputs": [],
   "source": [
    "#import necessary libraries\n",
    "import pandas as pd\n",
    "import numpy as np\n",
    "import time\n",
    "\n",
    "#reads csv files and converts them to dataframes\n",
    "df1 = pd.read_csv('/home/user/Desktop/SIT374/synth_data1.csv') #need to change this for your local machine\n",
    "df2 = pd.read_csv('/home/user/Desktop/SIT374/synth_data2.csv') #need to change this for your local machine\n",
    "\n",
    "tic = time.perf_counter() # starts the timer\n",
    "\n",
    "concat = pd.concat([df1,df2]) #concatenates two dataframes (e.g. a list of suspicious ID numbers and a list of customer ID numbers)\n",
    "idx = pd.Index(concat['S ID#']) #creates an index of the sender ID column\n",
    "r = pd.DataFrame(idx.duplicated(keep=False)) #finds and returns the index number of duplicates of ID numbers\n",
    "r.index.tolist() #takes duplicate ID index numbers and pushes them to a list\n",
    "\n",
    "toc = time.perf_counter() #ends the timer\n",
    "print(f\"Data comparison required: {toc - tic:0.6f} seconds\") #reports text and time taken to process\n",
    "print(r.head()) #prints the dataframe head\n",
    "dups = r[r[0] == True].index.values.tolist() #creates a list of the values (ID numbers) at each index number\n",
    "\n",
    "print('The number of duplicates is: ', len(dups)) #reports text and the number of duplicate ID numbers\n",
    "print('Duplicate row index location(s): ', dups), print() #reports text and the index numbers of each ID value\n",
    "\n",
    "print('List of documents requiring scrutiny:'), print() #prints text and creates a new line\n",
    "for i in dups: print(concat['S ID#'].loc[i]),print() #prints a list of the values of each duplicate ID (i.e. actual ID number)\n"
   ]
  }
 ],
 "metadata": {
  "language_info": {
   "name": "python"
  }
 },
 "nbformat": 4,
 "nbformat_minor": 2
}
